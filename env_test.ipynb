{
 "cells": [
  {
   "cell_type": "code",
   "execution_count": 23,
   "metadata": {},
   "outputs": [],
   "source": [
    "from utils.config import get_settings\n",
    "from trade.broker import BrokerSession\n",
    "import MetaTrader5 as mt5\n",
    "import pandas as pd\n",
    "import numpy as np\n",
    "login_settings = get_settings(\"settings/demo/login.json\")\n",
    "trading_settings = get_settings(\"settings/demo/trading.json\")\n",
    "\n",
    "mt5_login_settings = login_settings[\"mt5_login\"]\n",
    "\n",
    "session = BrokerSession()\n",
    "symbol = \"EURUSD\"\n",
    "\n",
    "# Start MT5\n",
    "session.start_session(mt5_login_settings)\n",
    "session.enable_symbols([symbol])\n"
   ]
  },
  {
   "cell_type": "code",
   "execution_count": 2,
   "metadata": {},
   "outputs": [],
   "source": [
    "from talib import EMA, get_unstable_period, set_unstable_period, ADX, get_functions, abstract\n",
    "from trade.indicators import get_stable_min_bars"
   ]
  },
  {
   "cell_type": "code",
   "execution_count": 3,
   "metadata": {},
   "outputs": [],
   "source": [
    "x = session.get_candles(symbol, \"H1\", 100 )"
   ]
  },
  {
   "cell_type": "code",
   "execution_count": 18,
   "metadata": {},
   "outputs": [
    {
     "data": {
      "text/plain": [
       "0"
      ]
     },
     "execution_count": 18,
     "metadata": {},
     "output_type": "execute_result"
    }
   ],
   "source": [
    "get_unstable_period(\"EMA\")"
   ]
  },
  {
   "cell_type": "code",
   "execution_count": 2,
   "metadata": {},
   "outputs": [
    {
     "ename": "ValueError",
     "evalue": "max() arg is an empty sequence",
     "output_type": "error",
     "traceback": [
      "\u001b[1;31m---------------------------------------------------------------------------\u001b[0m",
      "\u001b[1;31mValueError\u001b[0m                                Traceback (most recent call last)",
      "Cell \u001b[1;32mIn[2], line 1\u001b[0m\n\u001b[1;32m----> 1\u001b[0m \u001b[39mmax\u001b[39;49m(s \u001b[39mfor\u001b[39;49;00m s \u001b[39min\u001b[39;49;00m [])\n",
      "\u001b[1;31mValueError\u001b[0m: max() arg is an empty sequence"
     ]
    }
   ],
   "source": [
    "max(s for s in [])"
   ]
  },
  {
   "cell_type": "code",
   "execution_count": 48,
   "metadata": {},
   "outputs": [],
   "source": [
    "bars = get_stable_min_bars(\"EMA\", 2)\n",
    "set_unstable_period(\"EMA\", bars - 2 + 1)\n",
    "ema1 = EMA(x.close, 2)"
   ]
  },
  {
   "cell_type": "code",
   "execution_count": 20,
   "metadata": {},
   "outputs": [],
   "source": [
    "set_unstable_period(\"EMA\", 0)\n",
    "ema2 = EMA(x.close, 10)"
   ]
  },
  {
   "cell_type": "code",
   "execution_count": 25,
   "metadata": {},
   "outputs": [
    {
     "data": {
      "text/plain": [
       "array([], dtype=float64)"
      ]
     },
     "execution_count": 25,
     "metadata": {},
     "output_type": "execute_result"
    }
   ],
   "source": [
    "ema2[ema2 == np.nan]"
   ]
  },
  {
   "cell_type": "code",
   "execution_count": 42,
   "metadata": {},
   "outputs": [
    {
     "data": {
      "text/plain": [
       "9"
      ]
     },
     "execution_count": 42,
     "metadata": {},
     "output_type": "execute_result"
    }
   ],
   "source": [
    "ema2[np.isnan(ema2)].size"
   ]
  },
  {
   "cell_type": "code",
   "execution_count": 49,
   "metadata": {},
   "outputs": [
    {
     "data": {
      "text/plain": [
       "16"
      ]
     },
     "execution_count": 49,
     "metadata": {},
     "output_type": "execute_result"
    }
   ],
   "source": [
    "ema1[np.isnan(ema1)].size"
   ]
  },
  {
   "cell_type": "code",
   "execution_count": 234,
   "metadata": {},
   "outputs": [
    {
     "data": {
      "text/plain": [
       "['Output scale same as input', 'Function has an unstable period']"
      ]
     },
     "execution_count": 234,
     "metadata": {},
     "output_type": "execute_result"
    }
   ],
   "source": [
    "abstract.Function(\"EMA\").function_flags"
   ]
  },
  {
   "cell_type": "code",
   "execution_count": 43,
   "metadata": {},
   "outputs": [],
   "source": [
    "a = avg_stable_windows[:14]\n",
    "b = avg_stable_windows[14:]"
   ]
  },
  {
   "cell_type": "code",
   "execution_count": 48,
   "metadata": {},
   "outputs": [],
   "source": [
    "max_bars = 1000\n",
    "close = np.random.rand(max_bars) * 50\n",
    "high = close + np.random.rand(max_bars) * 5\n",
    "low = close - np.random.rand(max_bars) * 5\n",
    "w = 100\n",
    "off = 2 * w + 12"
   ]
  },
  {
   "cell_type": "code",
   "execution_count": 300,
   "metadata": {},
   "outputs": [
    {
     "name": "stdout",
     "output_type": "stream",
     "text": [
      "0.01020408163265306 [-1  0  1  2  2  3  2  2  3  1  2  1  2  0  3  0  0  0 -1  1  0  1  0  1\n",
      " -1  2  0 -1 -1  0  0  0 -5  0 -2 -3 -2  1 -2 -1  0 -2  0  1 -1  2  0 -4\n",
      " -3  2 -5 -2  2  3  0 -3 -1 -2  2  5  1 -1  0  2  3 -7 -4  0 -2 -4 -8 -7\n",
      "  5  4 -1  1  1  5  2 -6  1  3  1  3  0  1 -2 -1  4  0  1  2 -7 -3  4  0\n",
      "  1  5]\n"
     ]
    }
   ],
   "source": [
    "r = ((138.2* np.arange(2, 100) -155.55)**(1/1.53) - a.values).astype(int)\n",
    "print(np.mean(r), r)"
   ]
  },
  {
   "cell_type": "code",
   "execution_count": 67,
   "metadata": {},
   "outputs": [
    {
     "name": "stderr",
     "output_type": "stream",
     "text": [
      "C:\\Users\\grung\\AppData\\Local\\Temp\\ipykernel_4828\\3369202441.py:1: RuntimeWarning: invalid value encountered in sqrt\n",
      "  np.sqrt(840 - 1400)\n"
     ]
    },
    {
     "data": {
      "text/plain": [
       "nan"
      ]
     },
     "execution_count": 67,
     "metadata": {},
     "output_type": "execute_result"
    }
   ],
   "source": [
    "np.sqrt(840 - 1400)"
   ]
  },
  {
   "cell_type": "code",
   "execution_count": 457,
   "metadata": {},
   "outputs": [
    {
     "data": {
      "text/plain": [
       "array([         nan,  25.5       ,  35.83333333,  45.94444444,\n",
       "        55.31481481,  63.77160494,  72.59053498,  80.86351166,\n",
       "        87.62117055,  95.87372352, 103.29124117, 110.43041372,\n",
       "       118.14347124, 124.71449041, 132.23816347, 138.74605449,\n",
       "       144.9153515 , 151.6384505 , 157.8794835 , 163.95982783,\n",
       "       170.31994261, 176.43998087, 183.47999362, 188.49333121,\n",
       "       193.49777707, 198.83259236, 203.61086412, 210.53695471,\n",
       "       215.51231824, 221.83743941, 226.6124798 , 232.8708266 ,\n",
       "       235.62360887, 240.54120296, 246.18040099, 252.72680033,\n",
       "       259.57560011, 264.52520004, 267.50840001, 273.16946667,\n",
       "       276.05648889, 279.35216296, 284.45072099, 290.15024033,\n",
       "       295.38341344, 299.46113781, 303.82037927, 308.94012642,\n",
       "       312.98004214, 317.32668071, 321.77556024, 323.92518675,\n",
       "       329.97506225, 335.99168742, 336.66389581, 339.88796527,\n",
       "       343.96265509, 347.9875517 , 354.66251723, 363.22083908,\n",
       "       365.07361303, 366.35787101, 371.11929034, 376.03976345,\n",
       "       376.34658782, 382.44886261, 387.4829542 , 388.16098473,\n",
       "       390.05366158, 394.68455386, 401.89485129, 403.29828376,\n",
       "       403.43276125, 407.14425375, 412.38141792, 416.12713931,\n",
       "       421.3757131 , 427.79190437, 433.59730146, 433.19910049,\n",
       "       437.06636683, 440.35545561, 445.1184852 , 449.70616173,\n",
       "       451.90205391, 453.9673513 , 459.32245043, 456.77415014,\n",
       "       458.92471671, 462.3082389 , 468.43607963, 473.47869321,\n",
       "       478.49289774, 482.49763258, 485.49921086, 486.49973695,\n",
       "       489.16657898, 492.72219299])"
      ]
     },
     "execution_count": 457,
     "metadata": {},
     "output_type": "execute_result"
    }
   ],
   "source": [
    "\n",
    "EMA(a.values, 2)"
   ]
  },
  {
   "cell_type": "code",
   "execution_count": 143,
   "metadata": {},
   "outputs": [
    {
     "name": "stderr",
     "output_type": "stream",
     "text": [
      "C:\\Users\\grung\\AppData\\Local\\Temp\\ipykernel_10624\\4084488277.py:1: RuntimeWarning: invalid value encountered in sqrt\n",
      "  p = Series(np.sqrt(fit[0] * np.arange(0, 100) + fit[1]))\n"
     ]
    }
   ],
   "source": [
    "p = Series(np.sqrt(fit[0] * np.arange(0, 100) + fit[1]))"
   ]
  },
  {
   "cell_type": "code",
   "execution_count": 94,
   "metadata": {},
   "outputs": [
    {
     "data": {
      "text/plain": [
       "0      17.0\n",
       "1      25.0\n",
       "2      33.0\n",
       "3      40.0\n",
       "4      47.0\n",
       "      ...  \n",
       "93    276.0\n",
       "94    277.5\n",
       "95    277.5\n",
       "96    280.0\n",
       "97    282.0\n",
       "Length: 98, dtype: float64"
      ]
     },
     "execution_count": 94,
     "metadata": {},
     "output_type": "execute_result"
    }
   ],
   "source": [
    "a"
   ]
  },
  {
   "cell_type": "code",
   "execution_count": 66,
   "metadata": {},
   "outputs": [
    {
     "ename": "NameError",
     "evalue": "name 'i' is not defined",
     "output_type": "error",
     "traceback": [
      "\u001b[1;31m---------------------------------------------------------------------------\u001b[0m",
      "\u001b[1;31mNameError\u001b[0m                                 Traceback (most recent call last)",
      "Cell \u001b[1;32mIn[66], line 3\u001b[0m\n\u001b[0;32m      1\u001b[0m arr \u001b[39m=\u001b[39m np\u001b[39m.\u001b[39mrandom\u001b[39m.\u001b[39mrand(\u001b[39m2000\u001b[39m) \u001b[39m*\u001b[39m \u001b[39m50\u001b[39m \u001b[39m# fake if highly volatile price data\u001b[39;00m\n\u001b[0;32m      2\u001b[0m func_ema_val \u001b[39m=\u001b[39m ta\u001b[39m.\u001b[39mfunc\u001b[39m.\u001b[39mRSI(arr, \u001b[39m14\u001b[39m)[\u001b[39m-\u001b[39m\u001b[39m1\u001b[39m]\n\u001b[1;32m----> 3\u001b[0m stream_ema_val \u001b[39m=\u001b[39m ta\u001b[39m.\u001b[39mfunc\u001b[39m.\u001b[39mRSI(arr[\u001b[39m-\u001b[39mi:], timeperiod)[\u001b[39m-\u001b[39m\u001b[39m1\u001b[39m]\n",
      "\u001b[1;31mNameError\u001b[0m: name 'i' is not defined"
     ]
    }
   ],
   "source": [
    "arr = np.random.rand(2000) * 50 # fake if highly volatile price data\n",
    "func_ema_val = ta.func.RSI(arr, 14)[-1]\n",
    "stream_ema_val = ta.func.RSI(arr[-i:], timeperiod)[-1]"
   ]
  },
  {
   "cell_type": "code",
   "execution_count": 15,
   "metadata": {},
   "outputs": [
    {
     "name": "stdout",
     "output_type": "stream",
     "text": [
      "unstable\n"
     ]
    }
   ],
   "source": [
    "from talib.abstract import EMA\n",
    "if 'Function has an unstable period' in EMA.function_flags:\n",
    "    print('unstable')"
   ]
  },
  {
   "cell_type": "code",
   "execution_count": 16,
   "metadata": {},
   "outputs": [
    {
     "data": {
      "text/plain": [
       "['Output scale same as input', 'Function has an unstable period']"
      ]
     },
     "execution_count": 16,
     "metadata": {},
     "output_type": "execute_result"
    }
   ],
   "source": [
    "EMA.function_flags"
   ]
  },
  {
   "cell_type": "code",
   "execution_count": 14,
   "metadata": {},
   "outputs": [
    {
     "data": {
      "text/plain": [
       "0"
      ]
     },
     "execution_count": 14,
     "metadata": {},
     "output_type": "execute_result"
    }
   ],
   "source": [
    "get_unstable_period(\"RSI\")"
   ]
  },
  {
   "cell_type": "code",
   "execution_count": 7,
   "metadata": {},
   "outputs": [
    {
     "data": {
      "text/plain": [
       "['__annotations__',\n",
       " '__call__',\n",
       " '__class__',\n",
       " '__closure__',\n",
       " '__code__',\n",
       " '__defaults__',\n",
       " '__delattr__',\n",
       " '__dict__',\n",
       " '__dir__',\n",
       " '__doc__',\n",
       " '__eq__',\n",
       " '__format__',\n",
       " '__ge__',\n",
       " '__get__',\n",
       " '__getattribute__',\n",
       " '__globals__',\n",
       " '__gt__',\n",
       " '__hash__',\n",
       " '__init__',\n",
       " '__init_subclass__',\n",
       " '__kwdefaults__',\n",
       " '__le__',\n",
       " '__lt__',\n",
       " '__module__',\n",
       " '__name__',\n",
       " '__ne__',\n",
       " '__new__',\n",
       " '__qualname__',\n",
       " '__reduce__',\n",
       " '__reduce_ex__',\n",
       " '__repr__',\n",
       " '__setattr__',\n",
       " '__sizeof__',\n",
       " '__str__',\n",
       " '__subclasshook__',\n",
       " '__wrapped__']"
      ]
     },
     "execution_count": 7,
     "metadata": {},
     "output_type": "execute_result"
    }
   ],
   "source": [
    "dir(EMA)"
   ]
  },
  {
   "cell_type": "code",
   "execution_count": 6,
   "metadata": {},
   "outputs": [
    {
     "data": {
      "text/plain": [
       "array([        nan,         nan, -0.75203802, -0.72308569, -0.46116107,\n",
       "       -0.63651406, -0.57410872, -0.46475001, -0.5626544 , -0.60439485,\n",
       "       -0.39232665, -0.54362966, -0.55125148, -0.35222303, -0.55460951,\n",
       "       -0.4431824 , -0.37182995, -0.35094486, -0.48240554, -0.64306907])"
      ]
     },
     "execution_count": 6,
     "metadata": {},
     "output_type": "execute_result"
    }
   ],
   "source": [
    "EMA(EMA(np.random.random(20), 2) - 1, 2)"
   ]
  },
  {
   "cell_type": "code",
   "execution_count": 12,
   "metadata": {},
   "outputs": [
    {
     "data": {
      "text/plain": [
       "time\n",
       "1681365780    13.72549\n",
       "1681365840    13.72549\n",
       "1681365900    13.72549\n",
       "1681365960    13.72549\n",
       "1681366020    13.72549\n",
       "1681366080    13.72549\n",
       "1681366140    13.72549\n",
       "1681366200    13.72549\n",
       "1681366260    13.72549\n",
       "1681366320    13.72549\n",
       "1681366380    13.72549\n",
       "1681366440    13.72549\n",
       "1681366500    13.72549\n",
       "1681366560    13.72549\n",
       "Name: rsi, dtype: float64"
      ]
     },
     "execution_count": 12,
     "metadata": {},
     "output_type": "execute_result"
    }
   ],
   "source": [
    "from trade.indicators import RSIIndicator\n",
    "c = session.get_candles(symbol, \"M1\", 14, 0, as_dataframe=True)\n",
    "RSIIndicator(c.close).rsi()"
   ]
  },
  {
   "cell_type": "code",
   "execution_count": 28,
   "metadata": {},
   "outputs": [
    {
     "data": {
      "text/plain": [
       "array([        nan,         nan,         nan,         nan,         nan,\n",
       "               nan,         nan,         nan,         nan,         nan,\n",
       "               nan,         nan,         nan,         nan, 45.83901774,\n",
       "       43.115191  , 41.74833658, 54.18941067])"
      ]
     },
     "execution_count": 28,
     "metadata": {},
     "output_type": "execute_result"
    }
   ],
   "source": [
    "p = np.array([20,11.25,12.35,14.5,18.45,12.75,15.35,13.05,16.10,12.20,11.65,13.25,15.30,14.85,16.15,19.05,21.45,17.55])[::-1]\n",
    "RSI(p)"
   ]
  },
  {
   "cell_type": "code",
   "execution_count": 2,
   "metadata": {},
   "outputs": [],
   "source": [
    "from trade.strategies import MovingAverageStrategy\n",
    "mav = MovingAverageStrategy(5, 200)\n"
   ]
  },
  {
   "cell_type": "code",
   "execution_count": 24,
   "metadata": {},
   "outputs": [
    {
     "name": "stdout",
     "output_type": "stream",
     "text": [
      "11.846058800000037\n",
      "11.345299699999941\n"
     ]
    }
   ],
   "source": [
    "import numpy as np\n",
    "import timeit\n",
    "\n",
    "arr = np.arange(1000000)\n",
    "\n",
    "\n",
    "def append_value(arr):\n",
    "    return np.append(arr, 1000000)\n",
    "\n",
    "\n",
    "def concatenate_value(arr):\n",
    "    return np.concatenate([arr, [1000000]])\n",
    "\n",
    "\n",
    "print(timeit.timeit(lambda: append_value(arr), number=10000))\n",
    "# Output: 10.277582999999988\n",
    "\n",
    "print(timeit.timeit(lambda: concatenate_value(arr), number=10000))\n",
    "# Output: 5.141081399999996\n"
   ]
  },
  {
   "cell_type": "code",
   "execution_count": 25,
   "metadata": {},
   "outputs": [
    {
     "name": "stdout",
     "output_type": "stream",
     "text": [
      "1.19 ms ± 80.3 µs per loop (mean ± std. dev. of 7 runs, 1,000 loops each)\n"
     ]
    }
   ],
   "source": [
    "%%timeit\n",
    "np.append(arr, 1000000)\n"
   ]
  },
  {
   "cell_type": "code",
   "execution_count": 27,
   "metadata": {},
   "outputs": [
    {
     "name": "stdout",
     "output_type": "stream",
     "text": [
      "1.18 ms ± 71.4 µs per loop (mean ± std. dev. of 7 runs, 1,000 loops each)\n"
     ]
    }
   ],
   "source": [
    "%%timeit\n",
    "np.concatenate([arr, [1000000]])\n"
   ]
  },
  {
   "cell_type": "code",
   "execution_count": 2,
   "metadata": {},
   "outputs": [],
   "source": [
    "symbols = mt5.symbols_get()"
   ]
  },
  {
   "cell_type": "code",
   "execution_count": 9,
   "metadata": {},
   "outputs": [
    {
     "name": "stdout",
     "output_type": "stream",
     "text": [
      "Forex\\Majors\\EURUSD 0.01 0.01\n",
      "Indices\\Indices Spot\\Major Spot Indices\\AUS200 0.1 0.1\n",
      "Indices\\Indices Spot\\Major Spot Indices\\JP225 1.0 1.0\n",
      "Indices\\Indices Spot\\Major Spot Indices\\UK100 0.1 0.1\n",
      "Indices\\Indices Spot\\Minor Spot Indices\\US2000 1.0 1.0\n",
      "Indices\\Indices Spot\\Major Spot Indices\\US30 0.1 0.1\n",
      "Commodities\\Metals\\XAGEUR 0.01 0.01\n",
      "Commodities\\Energies\\Energies Spot\\XBRUSD 0.5 0.5\n",
      "Crypto\\BTCUSD 0.01 0.01\n",
      "Crypto\\LTCUSD 0.05 0.01\n",
      "Crypto\\DSHUSD 1.0 0.01\n",
      "Stock CFD's\\Nasdaq\\AAPL.NAS 0.1 0.1\n",
      "Crypto\\XRPUSD 1.0 0.01\n",
      "Crypto\\XLMUSD 1000.0 100.0\n",
      "Crypto\\EOSUSD 1.0 0.01\n",
      "Stock CFD's\\NYSE\\ETF\\DBA.NYSE 0.1 0.1\n",
      "Commodities\\Metals\\XAUAUD 0.01 0.01\n",
      "Stock CFD's\\NYSE\\LIN.NYSE 0.1 0.1\n",
      "Indices\\Indices Spot\\Minor Spot Indices\\CA60 1.0 1.0\n",
      "Stock CFD's\\Nasdaq\\AMD.NAS 0.1 0.1\n",
      "Crypto\\ADAUSD 1.0 0.01\n",
      "Stock CFD's\\Nasdaq\\HOOD.NAS 0.1 0.1\n",
      "Crypto\\XTZUSD 1.0 0.01\n",
      "Crypto\\BNBUSD 0.01 0.01\n",
      "Indices\\Indices Spot\\Major Spot Indices\\DE40 0.1 0.1\n",
      "Indices\\Indices Spot\\Minor Spot Indices\\MidDE50 1.0 1.0\n",
      "Stock CFD's\\NYSE\\PANW.NAS 0.1 0.1\n",
      "Commodities\\Metals\\XAUJPY 0.01 0.01\n",
      "Stock CFD's\\Nasdaq\\PARA.NAS 0.1 0.1\n",
      "Crypto\\SOLUSD 1.0 0.01\n",
      "Stock CFD's\\Nasdaq\\ABEO.NAS 0.1 0.1\n",
      "Commodities\\Softs\\Wheat_K3 1.0 1.0\n",
      "Stock CFD's\\NYSE\\GRMN.NYSE 0.1 0.1\n",
      "Crypto\\AAVEUSD 1.0 1.0\n",
      "Stock CFD's\\Nasdaq\\XWEL.NAS 0.1 0.1\n",
      "Stock CFD's\\UK\\LSE\\IDS.LSE 1.0 1.0\n",
      "Stock CFD's\\NYSE\\BN.NYSE 0.1 0.1\n"
     ]
    }
   ],
   "source": [
    "b = -1\n",
    "for s in symbols:\n",
    "    si = mt5.symbol_info(s.name)\n",
    "    a = si.volume_min\n",
    "    if a != b:\n",
    "        print(s.path, a, si.volume_step)\n",
    "        b = a"
   ]
  },
  {
   "cell_type": "code",
   "execution_count": 17,
   "metadata": {},
   "outputs": [
    {
     "data": {
      "text/plain": [
       "1"
      ]
     },
     "execution_count": 17,
     "metadata": {},
     "output_type": "execute_result"
    }
   ],
   "source": [
    "q = 1.00000\n",
    "len(str(q)) - str(q).index(\".\") -1"
   ]
  },
  {
   "cell_type": "code",
   "execution_count": 29,
   "metadata": {},
   "outputs": [
    {
     "name": "stdout",
     "output_type": "stream",
     "text": [
      "356 µs ± 26 µs per loop (mean ± std. dev. of 7 runs, 1,000 loops each)\n"
     ]
    }
   ],
   "source": [
    "%%timeit\n",
    "pd.DataFrame(a)"
   ]
  },
  {
   "cell_type": "code",
   "execution_count": 79,
   "metadata": {},
   "outputs": [
    {
     "data": {
      "text/plain": [
       "rec.array([(1679875440, 1.07721, 1.07721, 1.07721, 1.07721, 1, 33, 0)],\n",
       "          dtype=[('time', '<i8'), ('open', '<f8'), ('high', '<f8'), ('low', '<f8'), ('close', '<f8'), ('tick_volume', '<u8'), ('spread', '<i4'), ('real_volume', '<u8')])"
      ]
     },
     "execution_count": 79,
     "metadata": {},
     "output_type": "execute_result"
    }
   ],
   "source": [
    "#%%timeit\n",
    "session.get_candles(\"EURUSD\", \"M1\", 1)"
   ]
  },
  {
   "cell_type": "code",
   "execution_count": 3,
   "metadata": {},
   "outputs": [
    {
     "data": {
      "text/plain": [
       "(0.999, 1.002)"
      ]
     },
     "execution_count": 3,
     "metadata": {},
     "output_type": "execute_result"
    }
   ],
   "source": [
    "session.calculate_sltp(\"EURUSD\", \"buy\", 1.0000, 10, 2)\n"
   ]
  },
  {
   "cell_type": "code",
   "execution_count": 20,
   "metadata": {},
   "outputs": [
    {
     "data": {
      "text/plain": [
       "AccountInfo(login=51136661, trade_mode=0, leverage=500, limit_orders=200, margin_so_mode=0, trade_allowed=True, trade_expert=True, margin_mode=2, currency_digits=2, fifo_close=False, balance=420.11, credit=0.0, profit=0.0, equity=420.11, margin=0.0, margin_free=420.11, margin_level=0.0, margin_so_call=100.0, margin_so_so=50.0, margin_initial=0.0, margin_maintenance=0.0, assets=0.0, liabilities=0.0, commission_blocked=0.0, name='Reyes Vega Leonardo Moises', server='ICMarketsSC-Demo', currency='GBP', company='Raw Trading Ltd')"
      ]
     },
     "execution_count": 20,
     "metadata": {},
     "output_type": "execute_result"
    }
   ],
   "source": [
    "session.calculate_sltp(\"EURUSD\", \"buy\", 1.08946, 10, 2)"
   ]
  },
  {
   "cell_type": "code",
   "execution_count": 22,
   "metadata": {},
   "outputs": [],
   "source": []
  },
  {
   "cell_type": "code",
   "execution_count": 26,
   "metadata": {},
   "outputs": [],
   "source": [
    "symbols = mt5.symbols_get()"
   ]
  },
  {
   "cell_type": "code",
   "execution_count": 29,
   "metadata": {},
   "outputs": [
    {
     "data": {
      "text/plain": [
       "SymbolInfo(custom=False, chart_mode=0, select=True, visible=True, session_deals=0, session_buy_orders=0, session_sell_orders=0, volume=0, volumehigh=0, volumelow=0, time=1679551157, digits=5, spread=0, spread_float=True, ticks_bookdepth=10, trade_calc_mode=0, trade_mode=4, start_time=0, expiration_time=0, trade_stops_level=0, trade_freeze_level=0, trade_exemode=2, swap_mode=1, swap_rollover3days=3, margin_hedged_use_leg=False, expiration_mode=15, filling_mode=2, order_mode=127, order_gtc_mode=0, option_mode=0, option_right=0, bid=1.08952, bidhigh=1.0899, bidlow=1.08555, ask=1.08952, askhigh=1.0899, asklow=1.08561, last=0.0, lasthigh=0.0, lastlow=0.0, volume_real=0.0, volumehigh_real=0.0, volumelow_real=0.0, option_strike=0.0, point=1e-05, trade_tick_value=0.8120969968653058, trade_tick_value_profit=0.8120969968653058, trade_tick_value_loss=0.812123377783553, trade_tick_size=1e-05, trade_contract_size=100000.0, trade_accrued_interest=0.0, trade_face_value=0.0, trade_liquidity_rate=0.0, volume_min=0.01, volume_max=200.0, volume_step=0.01, volume_limit=0.0, swap_long=-7.12, swap_short=4.65, margin_initial=100000.0, margin_maintenance=0.0, session_volume=0.0, session_turnover=0.0, session_interest=0.0, session_buy_orders_volume=0.0, session_sell_orders_volume=0.0, session_open=1.08555, session_close=1.08551, session_aw=0.0, session_price_settlement=0.0, session_price_limit_min=0.0, session_price_limit_max=0.0, margin_hedged=0.0, price_change=0.3694, price_volatility=0.0, price_theoretical=0.0, price_greeks_delta=0.0, price_greeks_theta=0.0, price_greeks_gamma=0.0, price_greeks_vega=0.0, price_greeks_rho=0.0, price_greeks_omega=0.0, price_sensitivity=0.0, basis='', category='', currency_base='EUR', currency_profit='USD', currency_margin='EUR', bank='', description='Euro vs US Dollar', exchange='', formula='', isin='', name='EURUSD', page='', path='Forex\\\\Majors\\\\EURUSD')"
      ]
     },
     "execution_count": 29,
     "metadata": {},
     "output_type": "execute_result"
    }
   ],
   "source": [
    "symbols[0]"
   ]
  },
  {
   "cell_type": "code",
   "execution_count": 2,
   "metadata": {},
   "outputs": [
    {
     "name": "stdout",
     "output_type": "stream",
     "text": [
      "409.3 1.2323\n"
     ]
    },
    {
     "data": {
      "text/plain": [
       "(1.092360597136, 1.089268805728)"
      ]
     },
     "execution_count": 2,
     "metadata": {},
     "output_type": "execute_result"
    }
   ],
   "source": [
    "session.calculate_sltp_2(\"EURUSD\", \"sell\", price=1.09133, lot_size=0.05, risk_pct=0.01, rr_ratio=2)\n"
   ]
  },
  {
   "cell_type": "code",
   "execution_count": 80,
   "metadata": {},
   "outputs": [],
   "source": [
    "si = mt5.symbol_info(\"GBPUSD\")\n",
    "si2 = mt5.symbol_info_tick(\"GBPUSD\")\n",
    "t = session.get_candles(\"GBPUSD\", \"M1\", 1)\n",
    "t2 = session.get_ticks(\"GBPUSD\", 5)"
   ]
  },
  {
   "cell_type": "code",
   "execution_count": 81,
   "metadata": {},
   "outputs": [
    {
     "data": {
      "text/plain": [
       "array([1.22351, 1.22362, 1.22362, 1.22354, 1.22354])"
      ]
     },
     "execution_count": 81,
     "metadata": {},
     "output_type": "execute_result"
    }
   ],
   "source": [
    "t2.ask"
   ]
  },
  {
   "cell_type": "code",
   "execution_count": 67,
   "metadata": {},
   "outputs": [
    {
     "data": {
      "text/plain": [
       "1.22295"
      ]
     },
     "execution_count": 67,
     "metadata": {},
     "output_type": "execute_result"
    }
   ],
   "source": [
    "si.bid"
   ]
  },
  {
   "cell_type": "code",
   "execution_count": 62,
   "metadata": {},
   "outputs": [
    {
     "data": {
      "text/plain": [
       "Tick(time=1679702218, bid=1.22295, ask=1.22323, last=0.0, volume=0, time_msc=1679702218646, flags=6, volume_real=0.0)"
      ]
     },
     "execution_count": 62,
     "metadata": {},
     "output_type": "execute_result"
    }
   ],
   "source": [
    "si2"
   ]
  },
  {
   "cell_type": "code",
   "execution_count": 3,
   "metadata": {},
   "outputs": [
    {
     "data": {
      "text/html": [
       "<div>\n",
       "<style scoped>\n",
       "    .dataframe tbody tr th:only-of-type {\n",
       "        vertical-align: middle;\n",
       "    }\n",
       "\n",
       "    .dataframe tbody tr th {\n",
       "        vertical-align: top;\n",
       "    }\n",
       "\n",
       "    .dataframe thead th {\n",
       "        text-align: right;\n",
       "    }\n",
       "</style>\n",
       "<table border=\"1\" class=\"dataframe\">\n",
       "  <thead>\n",
       "    <tr style=\"text-align: right;\">\n",
       "      <th></th>\n",
       "      <th>time</th>\n",
       "      <th>open</th>\n",
       "      <th>high</th>\n",
       "      <th>low</th>\n",
       "      <th>close</th>\n",
       "      <th>tick_volume</th>\n",
       "      <th>spread</th>\n",
       "      <th>real_volume</th>\n",
       "    </tr>\n",
       "  </thead>\n",
       "  <tbody>\n",
       "    <tr>\n",
       "      <th>0</th>\n",
       "      <td>1679565600</td>\n",
       "      <td>1.23238</td>\n",
       "      <td>1.23256</td>\n",
       "      <td>1.23164</td>\n",
       "      <td>1.23229</td>\n",
       "      <td>737</td>\n",
       "      <td>0</td>\n",
       "      <td>0</td>\n",
       "    </tr>\n",
       "  </tbody>\n",
       "</table>\n",
       "</div>"
      ],
      "text/plain": [
       "         time     open     high      low    close  tick_volume  spread  \\\n",
       "0  1679565600  1.23238  1.23256  1.23164  1.23229          737       0   \n",
       "\n",
       "   real_volume  \n",
       "0            0  "
      ]
     },
     "execution_count": 3,
     "metadata": {},
     "output_type": "execute_result"
    }
   ],
   "source": [
    "pd.DataFrame(mt5.copy_rates_from_pos(\"GBPUSD\", mt5.TIMEFRAME_H1, 0, 1))\n"
   ]
  },
  {
   "cell_type": "code",
   "execution_count": 7,
   "metadata": {},
   "outputs": [
    {
     "name": "stdout",
     "output_type": "stream",
     "text": [
      "61.9 µs ± 2.33 µs per loop (mean ± std. dev. of 7 runs, 10,000 loops each)\n"
     ]
    }
   ],
   "source": [
    "#%%timeit\n",
    "a = mt5.copy_rates_from_pos(\"GBPUSD\", mt5.TIMEFRAME_M1, 0, 1)\n",
    "b = a.view(np.recarray)\n"
   ]
  },
  {
   "cell_type": "code",
   "execution_count": 26,
   "metadata": {},
   "outputs": [],
   "source": [
    "a = mt5.positions_get(symbol=\"EURUSD\")\n"
   ]
  },
  {
   "cell_type": "code",
   "execution_count": 28,
   "metadata": {},
   "outputs": [
    {
     "data": {
      "text/plain": [
       "'EURUSD'"
      ]
     },
     "execution_count": 28,
     "metadata": {},
     "output_type": "execute_result"
    }
   ],
   "source": [
    "a[0].symbol"
   ]
  },
  {
   "cell_type": "code",
   "execution_count": 20,
   "metadata": {},
   "outputs": [
    {
     "data": {
      "text/plain": [
       "False"
      ]
     },
     "execution_count": 20,
     "metadata": {},
     "output_type": "execute_result"
    }
   ],
   "source": [
    "not 100"
   ]
  },
  {
   "cell_type": "code",
   "execution_count": 101,
   "metadata": {},
   "outputs": [
    {
     "data": {
      "text/plain": [
       "(TradeOrder(ticket=359065032, time_setup=1679875486, time_setup_msc=1679875486789, time_done=0, time_done_msc=0, time_expiration=0, type=2, type_time=0, type_filling=2, state=1, magic=0, position_id=0, position_by_id=0, reason=0, volume_initial=0.05, volume_current=0.05, price_open=1.18674, sl=0.0, tp=0.0, price_current=1.22426, price_stoplimit=0.0, symbol='GBPUSD', comment='', external_id=''),)"
      ]
     },
     "execution_count": 101,
     "metadata": {},
     "output_type": "execute_result"
    }
   ],
   "source": [
    "session.create_order()\n",
    "mt5.orders_get(symbol=\"GBPUSD\")\n"
   ]
  },
  {
   "cell_type": "code",
   "execution_count": 5,
   "metadata": {},
   "outputs": [],
   "source": [
    "from enum import Enum\n",
    "import MetaTrader5 as mt5\n",
    "class TimeFrames(Enum):\n",
    "    M1 = mt5.TIMEFRAME_M1\n",
    "    M2 = mt5.TIMEFRAME_M2\n",
    "    M3 = mt5.TIMEFRAME_M3\n",
    "    M4 = mt5.TIMEFRAME_M4\n",
    "    M5 = mt5.TIMEFRAME_M5\n",
    "    M6 = mt5.TIMEFRAME_M6\n",
    "    M10 = mt5.TIMEFRAME_M10\n",
    "    M12 = mt5.TIMEFRAME_M12\n",
    "    M15 = mt5.TIMEFRAME_M15\n",
    "    M20 = mt5.TIMEFRAME_M20\n",
    "    M30 = mt5.TIMEFRAME_M30\n",
    "    H1 = mt5.TIMEFRAME_H1\n",
    "    H2 = mt5.TIMEFRAME_H2\n",
    "    H3 = mt5.TIMEFRAME_H3\n",
    "    H4 = mt5.TIMEFRAME_H4\n",
    "    H6 = mt5.TIMEFRAME_H6\n",
    "    H8 = mt5.TIMEFRAME_H8\n",
    "    H12 = mt5.TIMEFRAME_H12\n",
    "    D1 = mt5.TIMEFRAME_D1\n",
    "    W1 = mt5.TIMEFRAME_W1\n",
    "    MN1 = mt5.TIMEFRAME_MN1\n"
   ]
  },
  {
   "cell_type": "code",
   "execution_count": 9,
   "metadata": {},
   "outputs": [
    {
     "data": {
      "text/plain": [
       "['M1',\n",
       " 'M2',\n",
       " 'M3',\n",
       " 'M4',\n",
       " 'M5',\n",
       " 'M6',\n",
       " 'M10',\n",
       " 'M12',\n",
       " 'M15',\n",
       " 'M20',\n",
       " 'M30',\n",
       " 'H1',\n",
       " 'H2',\n",
       " 'H3',\n",
       " 'H4',\n",
       " 'H6',\n",
       " 'H8',\n",
       " 'H12',\n",
       " 'D1',\n",
       " 'W1',\n",
       " 'MN1']"
      ]
     },
     "execution_count": 9,
     "metadata": {},
     "output_type": "execute_result"
    }
   ],
   "source": [
    "TimeFrames._member_names_\n"
   ]
  },
  {
   "cell_type": "code",
   "execution_count": 18,
   "metadata": {},
   "outputs": [
    {
     "data": {
      "text/plain": [
       "'D1'"
      ]
     },
     "execution_count": 18,
     "metadata": {},
     "output_type": "execute_result"
    }
   ],
   "source": [
    "TimeFrames.D1.name"
   ]
  },
  {
   "cell_type": "code",
   "execution_count": 17,
   "metadata": {},
   "outputs": [
    {
     "data": {
      "text/plain": [
       "[]"
      ]
     },
     "execution_count": 17,
     "metadata": {},
     "output_type": "execute_result"
    }
   ],
   "source": [
    "A._member_names_"
   ]
  },
  {
   "cell_type": "code",
   "execution_count": 44,
   "metadata": {},
   "outputs": [
    {
     "data": {
      "text/plain": [
       "'BCHUSD'"
      ]
     },
     "execution_count": 44,
     "metadata": {},
     "output_type": "execute_result"
    }
   ],
   "source": [
    "mt5.symbols_get(\"BCH\")[0].name"
   ]
  },
  {
   "cell_type": "code",
   "execution_count": 59,
   "metadata": {},
   "outputs": [
    {
     "data": {
      "text/plain": [
       "True"
      ]
     },
     "execution_count": 59,
     "metadata": {},
     "output_type": "execute_result"
    }
   ],
   "source": [
    "mt5.symbol_select(\"USDTRY\", True)"
   ]
  },
  {
   "cell_type": "code",
   "execution_count": 55,
   "metadata": {},
   "outputs": [],
   "source": [
    "import numpy as np\n",
    "\n",
    "o = np.arange(5).reshape(-1, 1)\n",
    "u = np.arange(5).reshape(-1, 1)\n"
   ]
  },
  {
   "cell_type": "code",
   "execution_count": 57,
   "metadata": {},
   "outputs": [
    {
     "data": {
      "text/plain": [
       "array([[(0., 0.), (0., 0.)],\n",
       "       [(1., 1.), (1., 1.)],\n",
       "       [(2., 2.), (2., 2.)],\n",
       "       [(3., 3.), (3., 3.)],\n",
       "       [(4., 4.), (4., 4.)]], dtype=[('c', '<f8'), ('d', '<f8')])"
      ]
     },
     "execution_count": 57,
     "metadata": {},
     "output_type": "execute_result"
    }
   ],
   "source": [
    "np.append(o, u, axis=1)# .astype([(\"c\", \"<f8\"), (\"d\", \"<f8\")])"
   ]
  },
  {
   "cell_type": "code",
   "execution_count": 12,
   "metadata": {},
   "outputs": [],
   "source": [
    "d = np.diff(o)"
   ]
  },
  {
   "cell_type": "code",
   "execution_count": 58,
   "metadata": {},
   "outputs": [
    {
     "name": "stdout",
     "output_type": "stream",
     "text": [
      "[(1, 4) (2, 5) (3, 6)]\n"
     ]
    }
   ],
   "source": [
    "import numpy as np\n",
    "\n",
    "# Create two 1D numpy arrays\n",
    "arr1 = np.array([1, 2, 3])\n",
    "arr2 = np.array([4, 5, 6])\n",
    "\n",
    "# Define the field names and data types for the recarray\n",
    "field_names = ['field1', 'field2']\n",
    "data_types = ['int', 'int']\n",
    "\n",
    "# Use the `numpy.rec.fromarrays` function to create the 2D recarray\n",
    "recarr = np.rec.fromarrays([arr1, arr2], names=field_names, formats=data_types)\n",
    "\n",
    "# Print the recarray\n",
    "print(recarr)\n"
   ]
  },
  {
   "cell_type": "code",
   "execution_count": 63,
   "metadata": {},
   "outputs": [
    {
     "data": {
      "text/plain": [
       "array([1, 2, 3])"
      ]
     },
     "execution_count": 63,
     "metadata": {},
     "output_type": "execute_result"
    }
   ],
   "source": [
    "recarr.field1"
   ]
  },
  {
   "cell_type": "code",
   "execution_count": 64,
   "metadata": {},
   "outputs": [],
   "source": [
    "def get_unstable_indicators():\n",
    "    unstable_indicators = []\n",
    "    for ind_name in get_all_indicators():\n",
    "        flags = Function(ind_name).function_flags\n",
    "        # print(flags)\n",
    "        if flags is not None and 'Output scale same as input' in flags:\n",
    "            unstable_indicators.append(ind_name)\n",
    "    return unstable_indicators"
   ]
  },
  {
   "cell_type": "code",
   "execution_count": 66,
   "metadata": {},
   "outputs": [
    {
     "data": {
      "text/plain": [
       "['MAX',\n",
       " 'MIN',\n",
       " 'MINMAX',\n",
       " 'BBANDS',\n",
       " 'DEMA',\n",
       " 'EMA',\n",
       " 'HT_TRENDLINE',\n",
       " 'KAMA',\n",
       " 'MA',\n",
       " 'MAMA',\n",
       " 'MAVP',\n",
       " 'MIDPOINT',\n",
       " 'MIDPRICE',\n",
       " 'SAR',\n",
       " 'SAREXT',\n",
       " 'SMA',\n",
       " 'T3',\n",
       " 'TEMA',\n",
       " 'TRIMA',\n",
       " 'WMA',\n",
       " 'AVGPRICE',\n",
       " 'MEDPRICE',\n",
       " 'TYPPRICE',\n",
       " 'WCLPRICE',\n",
       " 'LINEARREG',\n",
       " 'LINEARREG_INTERCEPT',\n",
       " 'TSF']"
      ]
     },
     "execution_count": 66,
     "metadata": {},
     "output_type": "execute_result"
    }
   ],
   "source": [
    "a = get_unstable_indicators()\n",
    "a"
   ]
  },
  {
   "cell_type": "code",
   "execution_count": null,
   "metadata": {},
   "outputs": [],
   "source": [
    "a"
   ]
  },
  {
   "cell_type": "code",
   "execution_count": 29,
   "metadata": {},
   "outputs": [
    {
     "ename": "ValueError",
     "evalue": "mismatch in size of old and new data-descriptor",
     "output_type": "error",
     "traceback": [
      "\u001b[1;31m---------------------------------------------------------------------------\u001b[0m",
      "\u001b[1;31mValueError\u001b[0m                                Traceback (most recent call last)",
      "\u001b[1;32mc:\\Users\\grung\\Desktop\\kpltrader\\env_test.ipynb Celda 39\u001b[0m in \u001b[0;36m1\n\u001b[1;32m----> <a href='vscode-notebook-cell:/c%3A/Users/grung/Desktop/kpltrader/env_test.ipynb#X51sZmlsZQ%3D%3D?line=0'>1</a>\u001b[0m a \u001b[39m=\u001b[39m np\u001b[39m.\u001b[39;49marray([[\u001b[39m1\u001b[39;49m,]], dtype\u001b[39m=\u001b[39;49m(\u001b[39m\"\u001b[39;49m\u001b[39mc\u001b[39;49m\u001b[39m\"\u001b[39;49m, \u001b[39m\"\u001b[39;49m\u001b[39m<f8\u001b[39;49m\u001b[39m\"\u001b[39;49m))\n\u001b[0;32m      <a href='vscode-notebook-cell:/c%3A/Users/grung/Desktop/kpltrader/env_test.ipynb#X51sZmlsZQ%3D%3D?line=1'>2</a>\u001b[0m a \u001b[39m=\u001b[39m a\u001b[39m.\u001b[39mview(np\u001b[39m.\u001b[39mrecarray)\n",
      "\u001b[1;31mValueError\u001b[0m: mismatch in size of old and new data-descriptor"
     ]
    }
   ],
   "source": [
    "a = np.array([[1,]], dtype=(\"c\", \"<f8\"))\n",
    "a = a.view(np.recarray)"
   ]
  },
  {
   "cell_type": "code",
   "execution_count": 33,
   "metadata": {},
   "outputs": [],
   "source": [
    "c = session.get_candles(symbol, \"M1\", 3)\n",
    "d = session.get_candles(symbol, \"M1\", 1)\n"
   ]
  },
  {
   "cell_type": "code",
   "execution_count": 37,
   "metadata": {},
   "outputs": [],
   "source": [
    "e = np.append(c, d)"
   ]
  },
  {
   "cell_type": "code",
   "execution_count": 41,
   "metadata": {},
   "outputs": [
    {
     "data": {
      "text/plain": [
       "rec.array([(1681360740, 1.09974, 1.0999, 1.09974, 1.0999, 10, 0, 0),\n",
       "           (1681360740, 1.09974, 1.0999, 1.09974, 1.0999, 10, 0, 0)],\n",
       "          dtype=[('time', '<i8'), ('open', '<f8'), ('high', '<f8'), ('low', '<f8'), ('close', '<f8'), ('tick_volume', '<u8'), ('spread', '<i4'), ('real_volume', '<u8')])"
      ]
     },
     "execution_count": 41,
     "metadata": {},
     "output_type": "execute_result"
    }
   ],
   "source": [
    "np.delete(e, np.s_[:2], axis=0).view(np.recarray)\n"
   ]
  },
  {
   "cell_type": "code",
   "execution_count": 21,
   "metadata": {},
   "outputs": [
    {
     "name": "stdout",
     "output_type": "stream",
     "text": [
      "[*********************100%***********************]  1 of 1 completed\n"
     ]
    }
   ],
   "source": [
    "from yfinance import download, set_tz_cache_location, Tickers\n",
    "from datetime import datetime as dt\n",
    "import pytz\n",
    "\n",
    "tz = pytz.timezone(\"US/Central\")\n",
    "# set_tz_cache_location(tz)\n",
    "start = tz.localize(dt(2023, 4, 1))\n",
    "end = tz.localize(dt.today())\n",
    "\n",
    "data = download(\"EURUSD=X\", start, end, interval=\"1h\", auto_adjust=True)"
   ]
  },
  {
   "cell_type": "code",
   "execution_count": 40,
   "metadata": {},
   "outputs": [],
   "source": [
    "data.rename(columns={C:C.lower() for C in data.columns}, inplace=True)"
   ]
  },
  {
   "cell_type": "code",
   "execution_count": 32,
   "metadata": {},
   "outputs": [
    {
     "data": {
      "text/plain": [
       "{'Datetime': 'time',\n",
       " 'Open': 'open',\n",
       " 'High': 'high',\n",
       " 'Low': 'low',\n",
       " 'Close': 'close',\n",
       " 'Volume': 'volume'}"
      ]
     },
     "execution_count": 32,
     "metadata": {},
     "output_type": "execute_result"
    }
   ],
   "source": [
    "{\"Datetime\": \"time\", **{C:C.lower() for C in data.columns}}"
   ]
  },
  {
   "cell_type": "code",
   "execution_count": 36,
   "metadata": {},
   "outputs": [
    {
     "ename": "IndexError",
     "evalue": "too many indices for array",
     "output_type": "error",
     "traceback": [
      "\u001b[0;31m---------------------------------------------------------------------------\u001b[0m",
      "\u001b[0;31mIndexError\u001b[0m                                Traceback (most recent call last)",
      "Cell \u001b[0;32mIn[36], line 1\u001b[0m\n\u001b[0;32m----> 1\u001b[0m data\u001b[39m.\u001b[39;49mrename({\u001b[39m\"\u001b[39;49m\u001b[39mOpen\u001b[39;49m\u001b[39m\"\u001b[39;49m: \u001b[39m\"\u001b[39;49m\u001b[39mopen\u001b[39;49m\u001b[39m\"\u001b[39;49m})\n",
      "File \u001b[0;32m~/.local/share/virtualenvs/danafx-F3BP0xaA/lib/python3.9/site-packages/pandas/core/frame.py:5573\u001b[0m, in \u001b[0;36mDataFrame.rename\u001b[0;34m(self, mapper, index, columns, axis, copy, inplace, level, errors)\u001b[0m\n\u001b[1;32m   5454\u001b[0m \u001b[39mdef\u001b[39;00m \u001b[39mrename\u001b[39m(\n\u001b[1;32m   5455\u001b[0m     \u001b[39mself\u001b[39m,\n\u001b[1;32m   5456\u001b[0m     mapper: Renamer \u001b[39m|\u001b[39m \u001b[39mNone\u001b[39;00m \u001b[39m=\u001b[39m \u001b[39mNone\u001b[39;00m,\n\u001b[0;32m   (...)\u001b[0m\n\u001b[1;32m   5464\u001b[0m     errors: IgnoreRaise \u001b[39m=\u001b[39m \u001b[39m\"\u001b[39m\u001b[39mignore\u001b[39m\u001b[39m\"\u001b[39m,\n\u001b[1;32m   5465\u001b[0m ) \u001b[39m-\u001b[39m\u001b[39m>\u001b[39m DataFrame \u001b[39m|\u001b[39m \u001b[39mNone\u001b[39;00m:\n\u001b[1;32m   5466\u001b[0m \u001b[39m    \u001b[39m\u001b[39m\"\"\"\u001b[39;00m\n\u001b[1;32m   5467\u001b[0m \u001b[39m    Alter axes labels.\u001b[39;00m\n\u001b[1;32m   5468\u001b[0m \n\u001b[0;32m   (...)\u001b[0m\n\u001b[1;32m   5571\u001b[0m \u001b[39m    4  3  6\u001b[39;00m\n\u001b[1;32m   5572\u001b[0m \u001b[39m    \"\"\"\u001b[39;00m\n\u001b[0;32m-> 5573\u001b[0m     \u001b[39mreturn\u001b[39;00m \u001b[39msuper\u001b[39;49m()\u001b[39m.\u001b[39;49m_rename(\n\u001b[1;32m   5574\u001b[0m         mapper\u001b[39m=\u001b[39;49mmapper,\n\u001b[1;32m   5575\u001b[0m         index\u001b[39m=\u001b[39;49mindex,\n\u001b[1;32m   5576\u001b[0m         columns\u001b[39m=\u001b[39;49mcolumns,\n\u001b[1;32m   5577\u001b[0m         axis\u001b[39m=\u001b[39;49maxis,\n\u001b[1;32m   5578\u001b[0m         copy\u001b[39m=\u001b[39;49mcopy,\n\u001b[1;32m   5579\u001b[0m         inplace\u001b[39m=\u001b[39;49minplace,\n\u001b[1;32m   5580\u001b[0m         level\u001b[39m=\u001b[39;49mlevel,\n\u001b[1;32m   5581\u001b[0m         errors\u001b[39m=\u001b[39;49merrors,\n\u001b[1;32m   5582\u001b[0m     )\n",
      "File \u001b[0;32m~/.local/share/virtualenvs/danafx-F3BP0xaA/lib/python3.9/site-packages/pandas/core/generic.py:1094\u001b[0m, in \u001b[0;36mNDFrame._rename\u001b[0;34m(self, mapper, index, columns, axis, copy, inplace, level, errors)\u001b[0m\n\u001b[1;32m   1092\u001b[0m     indexer \u001b[39m=\u001b[39m ax\u001b[39m.\u001b[39mget_level_values(level)\u001b[39m.\u001b[39mget_indexer_for(replacements)\n\u001b[1;32m   1093\u001b[0m \u001b[39melse\u001b[39;00m:\n\u001b[0;32m-> 1094\u001b[0m     indexer \u001b[39m=\u001b[39m ax\u001b[39m.\u001b[39;49mget_indexer_for(replacements)\n\u001b[1;32m   1096\u001b[0m \u001b[39mif\u001b[39;00m errors \u001b[39m==\u001b[39m \u001b[39m\"\u001b[39m\u001b[39mraise\u001b[39m\u001b[39m\"\u001b[39m \u001b[39mand\u001b[39;00m \u001b[39mlen\u001b[39m(indexer[indexer \u001b[39m==\u001b[39m \u001b[39m-\u001b[39m\u001b[39m1\u001b[39m]):\n\u001b[1;32m   1097\u001b[0m     missing_labels \u001b[39m=\u001b[39m [\n\u001b[1;32m   1098\u001b[0m         label\n\u001b[1;32m   1099\u001b[0m         \u001b[39mfor\u001b[39;00m index, label \u001b[39min\u001b[39;00m \u001b[39menumerate\u001b[39m(replacements)\n\u001b[1;32m   1100\u001b[0m         \u001b[39mif\u001b[39;00m indexer[index] \u001b[39m==\u001b[39m \u001b[39m-\u001b[39m\u001b[39m1\u001b[39m\n\u001b[1;32m   1101\u001b[0m     ]\n",
      "File \u001b[0;32m~/.local/share/virtualenvs/danafx-F3BP0xaA/lib/python3.9/site-packages/pandas/core/indexes/base.py:6052\u001b[0m, in \u001b[0;36mIndex.get_indexer_for\u001b[0;34m(self, target)\u001b[0m\n\u001b[1;32m   6034\u001b[0m \u001b[39m\u001b[39m\u001b[39m\"\"\"\u001b[39;00m\n\u001b[1;32m   6035\u001b[0m \u001b[39mGuaranteed return of an indexer even when non-unique.\u001b[39;00m\n\u001b[1;32m   6036\u001b[0m \n\u001b[0;32m   (...)\u001b[0m\n\u001b[1;32m   6049\u001b[0m \u001b[39marray([0, 2])\u001b[39;00m\n\u001b[1;32m   6050\u001b[0m \u001b[39m\"\"\"\u001b[39;00m\n\u001b[1;32m   6051\u001b[0m \u001b[39mif\u001b[39;00m \u001b[39mself\u001b[39m\u001b[39m.\u001b[39m_index_as_unique:\n\u001b[0;32m-> 6052\u001b[0m     \u001b[39mreturn\u001b[39;00m \u001b[39mself\u001b[39;49m\u001b[39m.\u001b[39;49mget_indexer(target)\n\u001b[1;32m   6053\u001b[0m indexer, _ \u001b[39m=\u001b[39m \u001b[39mself\u001b[39m\u001b[39m.\u001b[39mget_indexer_non_unique(target)\n\u001b[1;32m   6054\u001b[0m \u001b[39mreturn\u001b[39;00m indexer\n",
      "File \u001b[0;32m~/.local/share/virtualenvs/danafx-F3BP0xaA/lib/python3.9/site-packages/pandas/core/indexes/base.py:3899\u001b[0m, in \u001b[0;36mIndex.get_indexer\u001b[0;34m(self, target, method, limit, tolerance)\u001b[0m\n\u001b[1;32m   3897\u001b[0m method \u001b[39m=\u001b[39m missing\u001b[39m.\u001b[39mclean_reindex_fill_method(method)\n\u001b[1;32m   3898\u001b[0m orig_target \u001b[39m=\u001b[39m target\n\u001b[0;32m-> 3899\u001b[0m target \u001b[39m=\u001b[39m \u001b[39mself\u001b[39;49m\u001b[39m.\u001b[39;49m_maybe_cast_listlike_indexer(target)\n\u001b[1;32m   3901\u001b[0m \u001b[39mself\u001b[39m\u001b[39m.\u001b[39m_check_indexing_method(method, limit, tolerance)\n\u001b[1;32m   3903\u001b[0m \u001b[39mif\u001b[39;00m \u001b[39mnot\u001b[39;00m \u001b[39mself\u001b[39m\u001b[39m.\u001b[39m_index_as_unique:\n",
      "File \u001b[0;32m~/.local/share/virtualenvs/danafx-F3BP0xaA/lib/python3.9/site-packages/pandas/core/indexes/datetimelike.py:364\u001b[0m, in \u001b[0;36mDatetimeIndexOpsMixin._maybe_cast_listlike_indexer\u001b[0;34m(self, keyarr)\u001b[0m\n\u001b[1;32m    361\u001b[0m \u001b[39m@doc\u001b[39m(Index\u001b[39m.\u001b[39m_maybe_cast_listlike_indexer)\n\u001b[1;32m    362\u001b[0m \u001b[39mdef\u001b[39;00m \u001b[39m_maybe_cast_listlike_indexer\u001b[39m(\u001b[39mself\u001b[39m, keyarr):\n\u001b[1;32m    363\u001b[0m     \u001b[39mtry\u001b[39;00m:\n\u001b[0;32m--> 364\u001b[0m         res \u001b[39m=\u001b[39m \u001b[39mself\u001b[39;49m\u001b[39m.\u001b[39;49m_data\u001b[39m.\u001b[39;49m_validate_listlike(keyarr, allow_object\u001b[39m=\u001b[39;49m\u001b[39mTrue\u001b[39;49;00m)\n\u001b[1;32m    365\u001b[0m     \u001b[39mexcept\u001b[39;00m (\u001b[39mValueError\u001b[39;00m, \u001b[39mTypeError\u001b[39;00m):\n\u001b[1;32m    366\u001b[0m         \u001b[39mif\u001b[39;00m \u001b[39mnot\u001b[39;00m \u001b[39misinstance\u001b[39m(keyarr, ExtensionArray):\n\u001b[1;32m    367\u001b[0m             \u001b[39m# e.g. we don't want to cast DTA to ndarray[object]\u001b[39;00m\n",
      "File \u001b[0;32m~/.local/share/virtualenvs/danafx-F3BP0xaA/lib/python3.9/site-packages/pandas/core/arrays/datetimelike.py:749\u001b[0m, in \u001b[0;36mDatetimeLikeArrayMixin._validate_listlike\u001b[0;34m(self, value, allow_object)\u001b[0m\n\u001b[1;32m    746\u001b[0m \u001b[39m# Do type inference if necessary up front (after unpacking PandasArray)\u001b[39;00m\n\u001b[1;32m    747\u001b[0m \u001b[39m# e.g. we passed PeriodIndex.values and got an ndarray of Periods\u001b[39;00m\n\u001b[1;32m    748\u001b[0m value \u001b[39m=\u001b[39m extract_array(value, extract_numpy\u001b[39m=\u001b[39m\u001b[39mTrue\u001b[39;00m)\n\u001b[0;32m--> 749\u001b[0m value \u001b[39m=\u001b[39m pd_array(value)\n\u001b[1;32m    750\u001b[0m value \u001b[39m=\u001b[39m extract_array(value, extract_numpy\u001b[39m=\u001b[39m\u001b[39mTrue\u001b[39;00m)\n\u001b[1;32m    752\u001b[0m \u001b[39mif\u001b[39;00m is_all_strings(value):\n\u001b[1;32m    753\u001b[0m     \u001b[39m# We got a StringArray\u001b[39;00m\n",
      "File \u001b[0;32m~/.local/share/virtualenvs/danafx-F3BP0xaA/lib/python3.9/site-packages/pandas/core/construction.py:357\u001b[0m, in \u001b[0;36marray\u001b[0;34m(data, dtype, copy)\u001b[0m\n\u001b[1;32m    353\u001b[0m     \u001b[39mreturn\u001b[39;00m TimedeltaArray\u001b[39m.\u001b[39m_from_sequence(data, copy\u001b[39m=\u001b[39mcopy)\n\u001b[1;32m    355\u001b[0m \u001b[39melif\u001b[39;00m inferred_dtype \u001b[39m==\u001b[39m \u001b[39m\"\u001b[39m\u001b[39mstring\u001b[39m\u001b[39m\"\u001b[39m:\n\u001b[1;32m    356\u001b[0m     \u001b[39m# StringArray/ArrowStringArray depending on pd.options.mode.string_storage\u001b[39;00m\n\u001b[0;32m--> 357\u001b[0m     \u001b[39mreturn\u001b[39;00m StringDtype()\u001b[39m.\u001b[39;49mconstruct_array_type()\u001b[39m.\u001b[39;49m_from_sequence(data, copy\u001b[39m=\u001b[39;49mcopy)\n\u001b[1;32m    359\u001b[0m \u001b[39melif\u001b[39;00m inferred_dtype \u001b[39m==\u001b[39m \u001b[39m\"\u001b[39m\u001b[39minteger\u001b[39m\u001b[39m\"\u001b[39m:\n\u001b[1;32m    360\u001b[0m     \u001b[39mreturn\u001b[39;00m IntegerArray\u001b[39m.\u001b[39m_from_sequence(data, copy\u001b[39m=\u001b[39mcopy)\n",
      "File \u001b[0;32m~/.local/share/virtualenvs/danafx-F3BP0xaA/lib/python3.9/site-packages/pandas/core/arrays/string_.py:346\u001b[0m, in \u001b[0;36mStringArray._from_sequence\u001b[0;34m(cls, scalars, dtype, copy)\u001b[0m\n\u001b[1;32m    342\u001b[0m     result[na_values] \u001b[39m=\u001b[39m libmissing\u001b[39m.\u001b[39mNA\n\u001b[1;32m    344\u001b[0m \u001b[39melse\u001b[39;00m:\n\u001b[1;32m    345\u001b[0m     \u001b[39m# convert non-na-likes to str, and nan-likes to StringDtype().na_value\u001b[39;00m\n\u001b[0;32m--> 346\u001b[0m     result \u001b[39m=\u001b[39m lib\u001b[39m.\u001b[39;49mensure_string_array(scalars, na_value\u001b[39m=\u001b[39;49mlibmissing\u001b[39m.\u001b[39;49mNA, copy\u001b[39m=\u001b[39;49mcopy)\n\u001b[1;32m    348\u001b[0m \u001b[39m# Manually creating new array avoids the validation step in the __init__, so is\u001b[39;00m\n\u001b[1;32m    349\u001b[0m \u001b[39m# faster. Refactor need for validation?\u001b[39;00m\n\u001b[1;32m    350\u001b[0m new_string_array \u001b[39m=\u001b[39m \u001b[39mcls\u001b[39m\u001b[39m.\u001b[39m\u001b[39m__new__\u001b[39m(\u001b[39mcls\u001b[39m)\n",
      "File \u001b[0;32m~/.local/share/virtualenvs/danafx-F3BP0xaA/lib/python3.9/site-packages/pandas/_libs/lib.pyx:705\u001b[0m, in \u001b[0;36mpandas._libs.lib.ensure_string_array\u001b[0;34m()\u001b[0m\n",
      "File \u001b[0;32m~/.local/share/virtualenvs/danafx-F3BP0xaA/lib/python3.9/site-packages/pandas/_libs/lib.pyx:756\u001b[0m, in \u001b[0;36mpandas._libs.lib.ensure_string_array\u001b[0;34m()\u001b[0m\n",
      "\u001b[0;31mIndexError\u001b[0m: too many indices for array"
     ]
    }
   ],
   "source": [
    "data.rename({\"Open\": \"open\"})"
   ]
  },
  {
   "cell_type": "code",
   "execution_count": 7,
   "metadata": {},
   "outputs": [],
   "source": [
    "import numpy as np\n",
    "from sklearn.compose import ColumnTransformer\n",
    "from sklearn.preprocessing import Normalizer\n",
    "\n",
    "\n",
    "\n",
    "ct = ColumnTransformer(\n",
    "    [\n",
    "        #(\"norm1\", Normalizer(norm='l1'), [0, 1]),\n",
    "        (\"norm2\", Normalizer(norm='l1'), slice(2, 4))\n",
    "    ]\n",
    ")\n",
    "X = np.array([[0., 1., 2., 2.],\n",
    "              [1., 1., 0., 1.]])\n",
    "\n",
    "# Normalizer scales each row of X to unit norm. A separate scaling\n",
    "# is applied for the two first and two last elements of each\n",
    "# row independently.\n",
    "Y = ct.fit_transform(X)\n"
   ]
  },
  {
   "cell_type": "code",
   "execution_count": 9,
   "metadata": {},
   "outputs": [
    {
     "ename": "ValueError",
     "evalue": "there are no fields defined",
     "output_type": "error",
     "traceback": [
      "\u001b[0;31m---------------------------------------------------------------------------\u001b[0m",
      "\u001b[0;31mValueError\u001b[0m                                Traceback (most recent call last)",
      "Cell \u001b[0;32mIn[9], line 1\u001b[0m\n\u001b[0;32m----> 1\u001b[0m Y\u001b[39m.\u001b[39;49mdtype\u001b[39m.\u001b[39;49mnames \u001b[39m=\u001b[39m (\u001b[39m\"\u001b[39m\u001b[39mcol1\u001b[39m\u001b[39m\"\u001b[39m, \u001b[39m\"\u001b[39m\u001b[39mcol2\u001b[39m\u001b[39m\"\u001b[39m)\u001b[39m#[(\"col1\", \"<f8\"), (\"col1\", \"<f8\")]\u001b[39;00m\n",
      "\u001b[0;31mValueError\u001b[0m: there are no fields defined"
     ]
    }
   ],
   "source": [
    "Y.dtype.names = (\"col1\", \"col2\")#[(\"col1\", \"<f8\"), (\"col1\", \"<f8\")]\n"
   ]
  },
  {
   "cell_type": "code",
   "execution_count": 6,
   "metadata": {},
   "outputs": [],
   "source": [
    "X.dtype.names"
   ]
  },
  {
   "cell_type": "code",
   "execution_count": 114,
   "metadata": {},
   "outputs": [
    {
     "name": "stdout",
     "output_type": "stream",
     "text": [
      "[[(1, 2)]\n",
      " [(3, 4)]]\n"
     ]
    }
   ],
   "source": [
    "import numpy as np\n",
    "\n",
    "# Create a 2D numpy array\n",
    "arr = np.array([[1, 2], [3, 4]])\n",
    "\n",
    "# Define the field names and data types for the recarray\n",
    "field_names = ['field1', 'field2']\n",
    "data_types = ['int', 'int']\n",
    "\n",
    "# Use the `numpy.view` function to create the recarray\n",
    "recarr = arr.view(dtype={'names': field_names, 'formats': data_types})\n",
    "\n",
    "# Print the recarray\n",
    "print(recarr)\n"
   ]
  },
  {
   "cell_type": "code",
   "execution_count": 117,
   "metadata": {},
   "outputs": [],
   "source": [
    "rarray = recarr.view(np.recarray)"
   ]
  },
  {
   "cell_type": "code",
   "execution_count": 128,
   "metadata": {},
   "outputs": [
    {
     "data": {
      "text/plain": [
       "rec.array([[(1, 2)],\n",
       "           [(3, 4)]],\n",
       "          dtype=[('field1', '<i8'), ('field2', '<i8')])"
      ]
     },
     "execution_count": 128,
     "metadata": {},
     "output_type": "execute_result"
    }
   ],
   "source": [
    "rarray"
   ]
  },
  {
   "cell_type": "code",
   "execution_count": 123,
   "metadata": {},
   "outputs": [
    {
     "ename": "TypeError",
     "evalue": "'numpy.dtype[void]' object is not iterable",
     "output_type": "error",
     "traceback": [
      "\u001b[0;31m---------------------------------------------------------------------------\u001b[0m",
      "\u001b[0;31mTypeError\u001b[0m                                 Traceback (most recent call last)",
      "Cell \u001b[0;32mIn[123], line 1\u001b[0m\n\u001b[0;32m----> 1\u001b[0m \u001b[39mfor\u001b[39;00m i \u001b[39min\u001b[39;00m rarray\u001b[39m.\u001b[39mdtype:\n\u001b[1;32m      2\u001b[0m     \u001b[39mprint\u001b[39m(i)\n",
      "\u001b[0;31mTypeError\u001b[0m: 'numpy.dtype[void]' object is not iterable"
     ]
    }
   ],
   "source": [
    "for i in rarray.dtype:\n",
    "    print(i)"
   ]
  },
  {
   "cell_type": "code",
   "execution_count": 31,
   "metadata": {},
   "outputs": [],
   "source": [
    "recarray = recarr.view(np.recarray)"
   ]
  },
  {
   "cell_type": "code",
   "execution_count": 129,
   "metadata": {},
   "outputs": [
    {
     "data": {
      "text/plain": [
       "array([[1, 2],\n",
       "       [3, 4]])"
      ]
     },
     "execution_count": 129,
     "metadata": {},
     "output_type": "execute_result"
    }
   ],
   "source": [
    "arr"
   ]
  },
  {
   "cell_type": "code",
   "execution_count": 24,
   "metadata": {},
   "outputs": [],
   "source": [
    "arr = np.array([[1, 2, 3], [3, 4, 5]])\n"
   ]
  },
  {
   "cell_type": "code",
   "execution_count": 25,
   "metadata": {},
   "outputs": [
    {
     "data": {
      "text/plain": [
       "array([[(1, 1), (2, 2), (3, 3)],\n",
       "       [(3, 3), (4, 4), (5, 5)]],\n",
       "      dtype=[('field1', '<i8'), ('field2', '<i8')])"
      ]
     },
     "execution_count": 25,
     "metadata": {},
     "output_type": "execute_result"
    }
   ],
   "source": [
    "arr.astype(recarr.dtype).view"
   ]
  },
  {
   "cell_type": "code",
   "execution_count": 30,
   "metadata": {},
   "outputs": [
    {
     "ename": "AttributeError",
     "evalue": "'numpy.ndarray' object has no attribute 'field1'",
     "output_type": "error",
     "traceback": [
      "\u001b[0;31m---------------------------------------------------------------------------\u001b[0m",
      "\u001b[0;31mAttributeError\u001b[0m                            Traceback (most recent call last)",
      "Cell \u001b[0;32mIn[30], line 1\u001b[0m\n\u001b[0;32m----> 1\u001b[0m recarr\u001b[39m.\u001b[39;49mfield1\n",
      "\u001b[0;31mAttributeError\u001b[0m: 'numpy.ndarray' object has no attribute 'field1'"
     ]
    }
   ],
   "source": [
    "recarr.field1"
   ]
  },
  {
   "cell_type": "code",
   "execution_count": 18,
   "metadata": {},
   "outputs": [
    {
     "ename": "AttributeError",
     "evalue": "'numpy.ndarray' object has no attribute 'field1'",
     "output_type": "error",
     "traceback": [
      "\u001b[0;31m---------------------------------------------------------------------------\u001b[0m",
      "\u001b[0;31mAttributeError\u001b[0m                            Traceback (most recent call last)",
      "Cell \u001b[0;32mIn[18], line 1\u001b[0m\n\u001b[0;32m----> 1\u001b[0m recarr[\u001b[39m0\u001b[39;49m]\u001b[39m.\u001b[39;49mfield1\n",
      "\u001b[0;31mAttributeError\u001b[0m: 'numpy.ndarray' object has no attribute 'field1'"
     ]
    }
   ],
   "source": [
    "recarr[0].field1"
   ]
  },
  {
   "cell_type": "code",
   "execution_count": 43,
   "metadata": {},
   "outputs": [
    {
     "data": {
      "text/plain": [
       "array([[(2, 2)],\n",
       "       [(4, 4)]], dtype=[('field1', '<i8'), ('field2', '<i8')])"
      ]
     },
     "execution_count": 43,
     "metadata": {},
     "output_type": "execute_result"
    }
   ],
   "source": [
    "recarray[[\"field1\", \"field2\"]].field2.astype(recarr.dtype)"
   ]
  },
  {
   "cell_type": "code",
   "execution_count": 42,
   "metadata": {},
   "outputs": [
    {
     "data": {
      "text/plain": [
       "array([[1],\n",
       "       [3]])"
      ]
     },
     "execution_count": 42,
     "metadata": {},
     "output_type": "execute_result"
    }
   ],
   "source": [
    "recarray.field1.astype(name)"
   ]
  },
  {
   "cell_type": "code",
   "execution_count": 48,
   "metadata": {},
   "outputs": [],
   "source": [
    "a = recarray.dtype"
   ]
  },
  {
   "cell_type": "code",
   "execution_count": 51,
   "metadata": {},
   "outputs": [
    {
     "data": {
      "text/plain": [
       "'field1'"
      ]
     },
     "execution_count": 51,
     "metadata": {},
     "output_type": "execute_result"
    }
   ],
   "source": [
    "a.names[0]"
   ]
  },
  {
   "cell_type": "code",
   "execution_count": 60,
   "metadata": {},
   "outputs": [],
   "source": [
    "a.metadata"
   ]
  },
  {
   "cell_type": "code",
   "execution_count": 63,
   "metadata": {},
   "outputs": [
    {
     "ename": "AttributeError",
     "evalue": "'numpy.ndarray' object has no attribute 'dypes'",
     "output_type": "error",
     "traceback": [
      "\u001b[0;31m---------------------------------------------------------------------------\u001b[0m",
      "\u001b[0;31mAttributeError\u001b[0m                            Traceback (most recent call last)",
      "Cell \u001b[0;32mIn[63], line 1\u001b[0m\n\u001b[0;32m----> 1\u001b[0m recarray\u001b[39m.\u001b[39;49mfield1\u001b[39m.\u001b[39;49mdypes\u001b[39m.\u001b[39mnames \u001b[39m=\u001b[39m [(\u001b[39m\"\u001b[39m\u001b[39mfield2\u001b[39m\u001b[39m\"\u001b[39m, \u001b[39m\"\u001b[39m\u001b[39m<f8\u001b[39m\u001b[39m\"\u001b[39m)]\n",
      "\u001b[0;31mAttributeError\u001b[0m: 'numpy.ndarray' object has no attribute 'dypes'"
     ]
    }
   ],
   "source": [
    "recarray.field1.dypes.names = [(\"field2\", \"<f8\")]"
   ]
  },
  {
   "cell_type": "code",
   "execution_count": 64,
   "metadata": {},
   "outputs": [],
   "source": [
    "a = recarray.field1"
   ]
  },
  {
   "cell_type": "code",
   "execution_count": 68,
   "metadata": {},
   "outputs": [
    {
     "data": {
      "text/plain": [
       "array([[(4.9e-324,)],\n",
       "       [(1.5e-323,)]], dtype=[('a', '<f8')])"
      ]
     },
     "execution_count": 68,
     "metadata": {},
     "output_type": "execute_result"
    }
   ],
   "source": [
    "a.view(dtype={'names': [\"a\"], 'formats': ['<f8']})"
   ]
  },
  {
   "cell_type": "code",
   "execution_count": 69,
   "metadata": {},
   "outputs": [
    {
     "data": {
      "text/plain": [
       "array([[1],\n",
       "       [3]])"
      ]
     },
     "execution_count": 69,
     "metadata": {},
     "output_type": "execute_result"
    }
   ],
   "source": [
    "a"
   ]
  },
  {
   "cell_type": "code",
   "execution_count": 76,
   "metadata": {},
   "outputs": [],
   "source": [
    "c = np.rec.fromrecords(a, names=\"c\")"
   ]
  },
  {
   "cell_type": "code",
   "execution_count": 85,
   "metadata": {},
   "outputs": [
    {
     "ename": "AttributeError",
     "evalue": "module 'numpy' has no attribute 'recfunctions'",
     "output_type": "error",
     "traceback": [
      "\u001b[0;31m---------------------------------------------------------------------------\u001b[0m",
      "\u001b[0;31mAttributeError\u001b[0m                            Traceback (most recent call last)",
      "Cell \u001b[0;32mIn[85], line 1\u001b[0m\n\u001b[0;32m----> 1\u001b[0m np\u001b[39m.\u001b[39;49mrecfunctions\u001b[39m.\u001b[39mmerge_arrays((b, c), flatten\u001b[39m=\u001b[39m\u001b[39mTrue\u001b[39;00m)\n",
      "File \u001b[0;32m~/.local/share/virtualenvs/danafx-F3BP0xaA/lib/python3.9/site-packages/numpy/__init__.py:320\u001b[0m, in \u001b[0;36m__getattr__\u001b[0;34m(attr)\u001b[0m\n\u001b[1;32m    317\u001b[0m     \u001b[39mfrom\u001b[39;00m \u001b[39m.\u001b[39;00m\u001b[39mtesting\u001b[39;00m \u001b[39mimport\u001b[39;00m Tester\n\u001b[1;32m    318\u001b[0m     \u001b[39mreturn\u001b[39;00m Tester\n\u001b[0;32m--> 320\u001b[0m \u001b[39mraise\u001b[39;00m \u001b[39mAttributeError\u001b[39;00m(\u001b[39m\"\u001b[39m\u001b[39mmodule \u001b[39m\u001b[39m{!r}\u001b[39;00m\u001b[39m has no attribute \u001b[39m\u001b[39m\"\u001b[39m\n\u001b[1;32m    321\u001b[0m                      \u001b[39m\"\u001b[39m\u001b[39m{!r}\u001b[39;00m\u001b[39m\"\u001b[39m\u001b[39m.\u001b[39mformat(\u001b[39m__name__\u001b[39m, attr))\n",
      "\u001b[0;31mAttributeError\u001b[0m: module 'numpy' has no attribute 'recfunctions'"
     ]
    }
   ],
   "source": [
    "np.recfunctions.merge_arrays((b, c), flatten=True)\n"
   ]
  },
  {
   "cell_type": "code",
   "execution_count": 88,
   "metadata": {},
   "outputs": [],
   "source": [
    "fields = np.hstack((b['a'], c['c']))\n",
    "\n",
    "# Create a new recarray from the concatenated fields using fromarrays\n",
    "recarr = np.core.records.fromarrays(fields.reshape(-1, 2).T, names='a,b')\n"
   ]
  },
  {
   "cell_type": "code",
   "execution_count": 98,
   "metadata": {},
   "outputs": [
    {
     "ename": "AxisError",
     "evalue": "axis 1 is out of bounds for array of dimension 1",
     "output_type": "error",
     "traceback": [
      "\u001b[0;31m---------------------------------------------------------------------------\u001b[0m",
      "\u001b[0;31mAxisError\u001b[0m                                 Traceback (most recent call last)",
      "Cell \u001b[0;32mIn[98], line 1\u001b[0m\n\u001b[0;32m----> 1\u001b[0m np\u001b[39m.\u001b[39;49mappend(b, c, axis\u001b[39m=\u001b[39;49m\u001b[39m1\u001b[39;49m)\n",
      "File \u001b[0;32m<__array_function__ internals>:200\u001b[0m, in \u001b[0;36mappend\u001b[0;34m(*args, **kwargs)\u001b[0m\n",
      "File \u001b[0;32m~/.local/share/virtualenvs/danafx-F3BP0xaA/lib/python3.9/site-packages/numpy/lib/function_base.py:5499\u001b[0m, in \u001b[0;36mappend\u001b[0;34m(arr, values, axis)\u001b[0m\n\u001b[1;32m   5497\u001b[0m     values \u001b[39m=\u001b[39m ravel(values)\n\u001b[1;32m   5498\u001b[0m     axis \u001b[39m=\u001b[39m arr\u001b[39m.\u001b[39mndim\u001b[39m-\u001b[39m\u001b[39m1\u001b[39m\n\u001b[0;32m-> 5499\u001b[0m \u001b[39mreturn\u001b[39;00m concatenate((arr, values), axis\u001b[39m=\u001b[39;49maxis)\n",
      "File \u001b[0;32m<__array_function__ internals>:200\u001b[0m, in \u001b[0;36mconcatenate\u001b[0;34m(*args, **kwargs)\u001b[0m\n",
      "\u001b[0;31mAxisError\u001b[0m: axis 1 is out of bounds for array of dimension 1"
     ]
    }
   ],
   "source": [
    "np.append(b, c, axis=1)"
   ]
  },
  {
   "cell_type": "code",
   "execution_count": 105,
   "metadata": {},
   "outputs": [
    {
     "data": {
      "text/plain": [
       "rec.array([(1,), (3,)],\n",
       "          dtype=[('c', '<i8')])"
      ]
     },
     "execution_count": 105,
     "metadata": {},
     "output_type": "execute_result"
    }
   ],
   "source": [
    "c[[\"c\"]]"
   ]
  },
  {
   "cell_type": "code",
   "execution_count": 103,
   "metadata": {},
   "outputs": [
    {
     "data": {
      "text/plain": [
       "array([1, 3])"
      ]
     },
     "execution_count": 103,
     "metadata": {},
     "output_type": "execute_result"
    }
   ],
   "source": [
    "b.a"
   ]
  },
  {
   "cell_type": "code",
   "execution_count": 109,
   "metadata": {},
   "outputs": [
    {
     "data": {
      "text/plain": [
       "array([[1, 1],\n",
       "       [3, 3]])"
      ]
     },
     "execution_count": 109,
     "metadata": {},
     "output_type": "execute_result"
    }
   ],
   "source": [
    "np.column_stack((b.a, c.c))"
   ]
  },
  {
   "cell_type": "code",
   "execution_count": 112,
   "metadata": {},
   "outputs": [
    {
     "data": {
      "text/plain": [
       "rec.array([((1,), (1,)), ((3,), (3,))],\n",
       "          dtype=[('f0', (numpy.record, [('a', '<i8')])), ('f1', (numpy.record, [('c', '<i8')]))])"
      ]
     },
     "execution_count": 112,
     "metadata": {},
     "output_type": "execute_result"
    }
   ],
   "source": [
    "np.rec.fromarrays((b, c))"
   ]
  },
  {
   "cell_type": "code",
   "execution_count": 130,
   "metadata": {},
   "outputs": [
    {
     "ename": "AttributeError",
     "evalue": "module 'numpy.lib' has no attribute 'recfunctions'",
     "output_type": "error",
     "traceback": [
      "\u001b[0;31m---------------------------------------------------------------------------\u001b[0m",
      "\u001b[0;31mAttributeError\u001b[0m                            Traceback (most recent call last)",
      "Cell \u001b[0;32mIn[130], line 8\u001b[0m\n\u001b[1;32m      5\u001b[0m arr2 \u001b[39m=\u001b[39m np\u001b[39m.\u001b[39marray([[\u001b[39m3\u001b[39m], [\u001b[39m3\u001b[39m]])\n\u001b[1;32m      7\u001b[0m \u001b[39m# Append the new array as a new field to the input recarray\u001b[39;00m\n\u001b[0;32m----> 8\u001b[0m result \u001b[39m=\u001b[39m np\u001b[39m.\u001b[39;49mlib\u001b[39m.\u001b[39;49mrecfunctions\u001b[39m.\u001b[39mappend_fields(arr1, \u001b[39m'\u001b[39m\u001b[39mfield3\u001b[39m\u001b[39m'\u001b[39m, arr2)\n\u001b[1;32m     10\u001b[0m \u001b[39m# Print the concatenated recarray\u001b[39;00m\n\u001b[1;32m     11\u001b[0m \u001b[39mprint\u001b[39m(result)\n",
      "\u001b[0;31mAttributeError\u001b[0m: module 'numpy.lib' has no attribute 'recfunctions'"
     ]
    }
   ],
   "source": [
    "import numpy as np\n",
    "\n",
    "# Define the input recarray and array to append\n",
    "arr1 = np.rec.array([[(1, 2)], [(3, 4)]], dtype=[('field1', '<i8'), ('field2', '<i8')])\n",
    "arr2 = np.array([[3], [3]])\n",
    "\n",
    "# Append the new array as a new field to the input recarray\n",
    "result = np.lib.recfunctions.append_fields(arr1, 'field3', arr2)\n",
    "\n",
    "# Print the concatenated recarray\n",
    "print(result)"
   ]
  },
  {
   "cell_type": "code",
   "execution_count": 131,
   "metadata": {},
   "outputs": [
    {
     "ename": "ValueError",
     "evalue": "array-shape mismatch in array 2 (\"field3\")",
     "output_type": "error",
     "traceback": [
      "\u001b[0;31m---------------------------------------------------------------------------\u001b[0m",
      "\u001b[0;31mValueError\u001b[0m                                Traceback (most recent call last)",
      "Cell \u001b[0;32mIn[131], line 8\u001b[0m\n\u001b[1;32m      5\u001b[0m arr2 \u001b[39m=\u001b[39m np\u001b[39m.\u001b[39marray([[\u001b[39m3\u001b[39m], [\u001b[39m3\u001b[39m]])\n\u001b[1;32m      7\u001b[0m \u001b[39m# Create a new recarray with the additional field\u001b[39;00m\n\u001b[0;32m----> 8\u001b[0m new_arr \u001b[39m=\u001b[39m np\u001b[39m.\u001b[39;49mcore\u001b[39m.\u001b[39;49mrecords\u001b[39m.\u001b[39;49mfromarrays([arr1[\u001b[39m'\u001b[39;49m\u001b[39mfield1\u001b[39;49m\u001b[39m'\u001b[39;49m], arr1[\u001b[39m'\u001b[39;49m\u001b[39mfield2\u001b[39;49m\u001b[39m'\u001b[39;49m], arr2\u001b[39m.\u001b[39;49mT[\u001b[39m0\u001b[39;49m]], names\u001b[39m=\u001b[39;49m\u001b[39m'\u001b[39;49m\u001b[39mfield1,field2,field3\u001b[39;49m\u001b[39m'\u001b[39;49m)\n\u001b[1;32m     10\u001b[0m \u001b[39m# Print the concatenated recarray\u001b[39;00m\n\u001b[1;32m     11\u001b[0m \u001b[39mprint\u001b[39m(new_arr)\n",
      "File \u001b[0;32m~/.local/share/virtualenvs/danafx-F3BP0xaA/lib/python3.9/site-packages/numpy/core/records.py:676\u001b[0m, in \u001b[0;36mfromarrays\u001b[0;34m(arrayList, dtype, shape, formats, names, titles, aligned, byteorder)\u001b[0m\n\u001b[1;32m    674\u001b[0m     name \u001b[39m=\u001b[39m _names[k]\n\u001b[1;32m    675\u001b[0m     \u001b[39mif\u001b[39;00m testshape \u001b[39m!=\u001b[39m shape:\n\u001b[0;32m--> 676\u001b[0m         \u001b[39mraise\u001b[39;00m \u001b[39mValueError\u001b[39;00m(\u001b[39mf\u001b[39m\u001b[39m'\u001b[39m\u001b[39marray-shape mismatch in array \u001b[39m\u001b[39m{\u001b[39;00mk\u001b[39m}\u001b[39;00m\u001b[39m (\u001b[39m\u001b[39m\"\u001b[39m\u001b[39m{\u001b[39;00mname\u001b[39m}\u001b[39;00m\u001b[39m\"\u001b[39m\u001b[39m)\u001b[39m\u001b[39m'\u001b[39m)\n\u001b[1;32m    678\u001b[0m     _array[name] \u001b[39m=\u001b[39m obj\n\u001b[1;32m    680\u001b[0m \u001b[39mreturn\u001b[39;00m _array\n",
      "\u001b[0;31mValueError\u001b[0m: array-shape mismatch in array 2 (\"field3\")"
     ]
    }
   ],
   "source": [
    "import numpy as np\n",
    "\n",
    "# Define the input recarray and array to append\n",
    "arr1 = np.rec.array([[(1, 2)], [(3, 4)]], dtype=[('field1', '<i8'), ('field2', '<i8')])\n",
    "arr2 = np.array([[3], [3]])\n",
    "\n",
    "# Create a new recarray with the additional field\n",
    "new_arr = np.core.records.fromarrays([arr1['field1'], arr1['field2'], arr2.T[0]], names='field1,field2,field3')\n",
    "\n",
    "# Print the concatenated recarray\n",
    "print(new_arr)"
   ]
  },
  {
   "cell_type": "code",
   "execution_count": 147,
   "metadata": {},
   "outputs": [
    {
     "name": "stdout",
     "output_type": "stream",
     "text": [
      "19.3 µs ± 1.76 µs per loop (mean ± std. dev. of 7 runs, 10,000 loops each)\n"
     ]
    }
   ],
   "source": [
    "%%timeit\n",
    "import numpy as np\n",
    "\n",
    "# Create a recarray\n",
    "arr = np.rec.array([(1, 2), (3, 4)], dtype=[('field1', '<i8'), ('field2', '<i8')])\n",
    "\n",
    "# Create a 2D array to append\n",
    "new_array = np.array([[5], [6]])\n",
    "new_array = np.array([5, 6])\n",
    "\n",
    "# Create a new recarray with an additional field\n",
    "new_dtype = arr.dtype.descr + [('field3', '<i8')]\n",
    "new_arr = np.empty(arr.shape, dtype=new_dtype)\n",
    "for name in arr.dtype.names:\n",
    "    new_arr[name] = arr[name]\n",
    "new_arr['field3'] = new_array\n",
    "\n",
    "# Print the new recarray\n",
    "# print(new_arr)\n"
   ]
  },
  {
   "cell_type": "code",
   "execution_count": 148,
   "metadata": {},
   "outputs": [
    {
     "data": {
      "text/plain": [
       "rec.array([(1, 2, 5), (3, 4, 6)],\n",
       "          dtype=[('field1', '<i8'), ('field2', '<i8'), ('field3', '<i8')])"
      ]
     },
     "execution_count": 148,
     "metadata": {},
     "output_type": "execute_result"
    }
   ],
   "source": [
    "new_arr.view(np.recarray)"
   ]
  },
  {
   "cell_type": "code",
   "execution_count": 135,
   "metadata": {},
   "outputs": [
    {
     "ename": "ValueError",
     "evalue": "could not broadcast input array from shape (2,1) into shape (2,)",
     "output_type": "error",
     "traceback": [
      "\u001b[0;31m---------------------------------------------------------------------------\u001b[0m",
      "\u001b[0;31mValueError\u001b[0m                                Traceback (most recent call last)",
      "Cell \u001b[0;32mIn[135], line 12\u001b[0m\n\u001b[1;32m     10\u001b[0m \u001b[39m# Append the new field\u001b[39;00m\n\u001b[1;32m     11\u001b[0m new_dtype \u001b[39m=\u001b[39m arr\u001b[39m.\u001b[39mdtype\u001b[39m.\u001b[39mdescr \u001b[39m+\u001b[39m [(\u001b[39m'\u001b[39m\u001b[39mfield3\u001b[39m\u001b[39m'\u001b[39m, \u001b[39m'\u001b[39m\u001b[39m<i8\u001b[39m\u001b[39m'\u001b[39m)]\n\u001b[0;32m---> 12\u001b[0m new_arr \u001b[39m=\u001b[39m append_fields(arr, \u001b[39m'\u001b[39;49m\u001b[39mfield3\u001b[39;49m\u001b[39m'\u001b[39;49m, new_arr, usemask\u001b[39m=\u001b[39;49m\u001b[39mFalse\u001b[39;49;00m, asrecarray\u001b[39m=\u001b[39;49m\u001b[39mTrue\u001b[39;49;00m)\n\u001b[1;32m     14\u001b[0m \u001b[39m# Print the new recarray\u001b[39;00m\n\u001b[1;32m     15\u001b[0m \u001b[39mprint\u001b[39m(new_arr)\n",
      "File \u001b[0;32m<__array_function__ internals>:200\u001b[0m, in \u001b[0;36mappend_fields\u001b[0;34m(*args, **kwargs)\u001b[0m\n",
      "File \u001b[0;32m~/.local/share/virtualenvs/danafx-F3BP0xaA/lib/python3.9/site-packages/numpy/lib/recfunctions.py:719\u001b[0m, in \u001b[0;36mappend_fields\u001b[0;34m(base, names, data, dtypes, fill_value, usemask, asrecarray)\u001b[0m\n\u001b[1;32m    715\u001b[0m output \u001b[39m=\u001b[39m ma\u001b[39m.\u001b[39mmasked_all(\n\u001b[1;32m    716\u001b[0m     \u001b[39mmax\u001b[39m(\u001b[39mlen\u001b[39m(base), \u001b[39mlen\u001b[39m(data)),\n\u001b[1;32m    717\u001b[0m     dtype\u001b[39m=\u001b[39m_get_fieldspec(base\u001b[39m.\u001b[39mdtype) \u001b[39m+\u001b[39m _get_fieldspec(data\u001b[39m.\u001b[39mdtype))\n\u001b[1;32m    718\u001b[0m output \u001b[39m=\u001b[39m recursive_fill_fields(base, output)\n\u001b[0;32m--> 719\u001b[0m output \u001b[39m=\u001b[39m recursive_fill_fields(data, output)\n\u001b[1;32m    720\u001b[0m \u001b[39m#\u001b[39;00m\n\u001b[1;32m    721\u001b[0m \u001b[39mreturn\u001b[39;00m _fix_output(output, usemask\u001b[39m=\u001b[39musemask, asrecarray\u001b[39m=\u001b[39masrecarray)\n",
      "File \u001b[0;32m<__array_function__ internals>:200\u001b[0m, in \u001b[0;36mrecursive_fill_fields\u001b[0;34m(*args, **kwargs)\u001b[0m\n",
      "File \u001b[0;32m~/.local/share/virtualenvs/danafx-F3BP0xaA/lib/python3.9/site-packages/numpy/lib/recfunctions.py:70\u001b[0m, in \u001b[0;36mrecursive_fill_fields\u001b[0;34m(input, output)\u001b[0m\n\u001b[1;32m     68\u001b[0m         recursive_fill_fields(current, output[field])\n\u001b[1;32m     69\u001b[0m     \u001b[39melse\u001b[39;00m:\n\u001b[0;32m---> 70\u001b[0m         output[field][:\u001b[39mlen\u001b[39;49m(current)] \u001b[39m=\u001b[39m current\n\u001b[1;32m     71\u001b[0m \u001b[39mreturn\u001b[39;00m output\n",
      "File \u001b[0;32m~/opt/miniconda3/lib/python3.9/contextlib.py:79\u001b[0m, in \u001b[0;36mContextDecorator.__call__.<locals>.inner\u001b[0;34m(*args, **kwds)\u001b[0m\n\u001b[1;32m     76\u001b[0m \u001b[39m@wraps\u001b[39m(func)\n\u001b[1;32m     77\u001b[0m \u001b[39mdef\u001b[39;00m \u001b[39minner\u001b[39m(\u001b[39m*\u001b[39margs, \u001b[39m*\u001b[39m\u001b[39m*\u001b[39mkwds):\n\u001b[1;32m     78\u001b[0m     \u001b[39mwith\u001b[39;00m \u001b[39mself\u001b[39m\u001b[39m.\u001b[39m_recreate_cm():\n\u001b[0;32m---> 79\u001b[0m         \u001b[39mreturn\u001b[39;00m func(\u001b[39m*\u001b[39;49margs, \u001b[39m*\u001b[39;49m\u001b[39m*\u001b[39;49mkwds)\n",
      "File \u001b[0;32m~/.local/share/virtualenvs/danafx-F3BP0xaA/lib/python3.9/site-packages/numpy/ma/core.py:3385\u001b[0m, in \u001b[0;36mMaskedArray.__setitem__\u001b[0;34m(self, indx, value)\u001b[0m\n\u001b[1;32m   3383\u001b[0m         _data[indx\u001b[39m.\u001b[39mdata] \u001b[39m=\u001b[39m dval\n\u001b[1;32m   3384\u001b[0m     \u001b[39melse\u001b[39;00m:\n\u001b[0;32m-> 3385\u001b[0m         _data[indx] \u001b[39m=\u001b[39m dval\n\u001b[1;32m   3386\u001b[0m         _mask[indx] \u001b[39m=\u001b[39m mval\n\u001b[1;32m   3387\u001b[0m \u001b[39melif\u001b[39;00m \u001b[39mhasattr\u001b[39m(indx, \u001b[39m'\u001b[39m\u001b[39mdtype\u001b[39m\u001b[39m'\u001b[39m) \u001b[39mand\u001b[39;00m (indx\u001b[39m.\u001b[39mdtype \u001b[39m==\u001b[39m MaskType):\n",
      "\u001b[0;31mValueError\u001b[0m: could not broadcast input array from shape (2,1) into shape (2,)"
     ]
    }
   ],
   "source": [
    "import numpy as np\n",
    "from numpy.lib.recfunctions import append_fields\n",
    "\n",
    "# Create a recarray\n",
    "arr = np.rec.array([(1, 2), (3, 4)], dtype=[('field1', '<i8'), ('field2', '<i8')])\n",
    "\n",
    "# Create a 2D array to append\n",
    "new_arr = np.array([[5], [6]])\n",
    "\n",
    "# Append the new field\n",
    "new_dtype = arr.dtype.descr + [('field3', '<i8')]\n",
    "new_arr = append_fields(arr, 'field3', new_arr, usemask=False, asrecarray=True)\n",
    "\n",
    "# Print the new recarray\n",
    "print(new_arr)\n"
   ]
  },
  {
   "cell_type": "code",
   "execution_count": 155,
   "metadata": {},
   "outputs": [
    {
     "data": {
      "text/plain": [
       "array([1, 2, 3, 4, 5, 6, 7, 8, 9])"
      ]
     },
     "execution_count": 155,
     "metadata": {},
     "output_type": "execute_result"
    }
   ],
   "source": [
    "np.arange(1, 10).reshape(-1,1)[:, 0]"
   ]
  },
  {
   "cell_type": "code",
   "execution_count": 159,
   "metadata": {},
   "outputs": [
    {
     "ename": "ValueError",
     "evalue": "no field of name field4",
     "output_type": "error",
     "traceback": [
      "\u001b[0;31m---------------------------------------------------------------------------\u001b[0m",
      "\u001b[0;31mValueError\u001b[0m                                Traceback (most recent call last)",
      "Cell \u001b[0;32mIn[159], line 1\u001b[0m\n\u001b[0;32m----> 1\u001b[0m new_arr[\u001b[39m\"\u001b[39;49m\u001b[39mfield4\u001b[39;49m\u001b[39m\"\u001b[39;49m] \u001b[39m=\u001b[39m np\u001b[39m.\u001b[39marray([\u001b[39m8\u001b[39m, \u001b[39m9\u001b[39m])\n",
      "\u001b[0;31mValueError\u001b[0m: no field of name field4"
     ]
    }
   ],
   "source": [
    "new_arr[\"field4\"] = np.array([8, 9])"
   ]
  },
  {
   "cell_type": "code",
   "execution_count": 160,
   "metadata": {},
   "outputs": [
    {
     "data": {
      "text/plain": [
       "array([(1, 2, 8), (3, 4, 9)],\n",
       "      dtype=[('field1', '<i8'), ('field2', '<i8'), ('field3', '<i8')])"
      ]
     },
     "execution_count": 160,
     "metadata": {},
     "output_type": "execute_result"
    }
   ],
   "source": [
    "new_arr."
   ]
  },
  {
   "cell_type": "code",
   "execution_count": 173,
   "metadata": {},
   "outputs": [
    {
     "data": {
      "text/plain": [
       "array([[(0, 0, 0)],\n",
       "       [(0, 0, 0)]],\n",
       "      dtype=[('field1', '<i8'), ('field2', '<i8'), ('field3', '<i8')])"
      ]
     },
     "execution_count": 173,
     "metadata": {},
     "output_type": "execute_result"
    }
   ],
   "source": [
    "np.empty((2, 1), dtype=[('field1', '<i8'), ('field2', '<i8'), ('field3', '<i8')])"
   ]
  },
  {
   "cell_type": "code",
   "execution_count": 189,
   "metadata": {},
   "outputs": [],
   "source": [
    "from numpy import empty, recarray\n",
    "\n",
    "def concat_recarrays(\n",
    "    arr1: recarray, \n",
    "    arr2: recarray, \n",
    ") -> recarray:\n",
    "\n",
    "    # Create a new recarray with an additional field\n",
    "    out_dtypes = arr1.dtype.descr + arr2.dtype.descr #new_dtypes #[('field3', '<i8')]\n",
    "    new_arr = empty(arr1.shape, dtype=out_dtypes)\n",
    "    for name in arr1.dtype.names:\n",
    "        new_arr[name] = arr1[name]\n",
    "    for name in arr2.dtype.names:\n",
    "        new_arr[name] = arr2[name]\n",
    "\n",
    "    return new_arr.view(recarray)"
   ]
  },
  {
   "cell_type": "code",
   "execution_count": 186,
   "metadata": {},
   "outputs": [],
   "source": [
    "arr1 = np.rec.array([(1, 2), (3, 4)], dtype=[('a', '<i8'), ('b', '<i8')])\n",
    "arr2 = np.rec.array([(1, 2), (3, 4)], dtype=[('c', '<i8'), ('d', '<i8')])\n"
   ]
  },
  {
   "cell_type": "code",
   "execution_count": 193,
   "metadata": {},
   "outputs": [
    {
     "name": "stdout",
     "output_type": "stream",
     "text": [
      "25.8 µs ± 1.61 µs per loop (mean ± std. dev. of 7 runs, 10,000 loops each)\n"
     ]
    }
   ],
   "source": [
    "%%timeit\n",
    "concat_recarrays(arr1, arr2).a"
   ]
  },
  {
   "cell_type": "code",
   "execution_count": 206,
   "metadata": {},
   "outputs": [],
   "source": [
    "arr2 = np.array([[3, 2], [3, 2]])\n"
   ]
  },
  {
   "cell_type": "code",
   "execution_count": 213,
   "metadata": {},
   "outputs": [],
   "source": [
    "f = arr2.astype([(\"a\", \"<f8\"), (\"b\", \"<f8\")]) #.view(np.recarray)"
   ]
  },
  {
   "cell_type": "code",
   "execution_count": 265,
   "metadata": {},
   "outputs": [
    {
     "data": {
      "text/plain": [
       "rec.array([[(1.,), (2.,), (3.,), (4.,)],\n",
       "           [(5.,), (6.,), (7.,), (8.,)]],\n",
       "          dtype=[('a', '<f8')])"
      ]
     },
     "execution_count": 265,
     "metadata": {},
     "output_type": "execute_result"
    }
   ],
   "source": [
    "f"
   ]
  },
  {
   "cell_type": "code",
   "execution_count": 241,
   "metadata": {},
   "outputs": [],
   "source": [
    "arr2 = np.array([[1, 2, 3, 4], [5,6,7,8]])\n",
    "f = arr2.astype([('a', '<f8')], copy=False).view(np.recarray)"
   ]
  },
  {
   "cell_type": "code",
   "execution_count": 220,
   "metadata": {},
   "outputs": [
    {
     "ename": "TypeError",
     "evalue": "Field elements must be 2- or 3-tuples, got ''a''",
     "output_type": "error",
     "traceback": [
      "\u001b[0;31m---------------------------------------------------------------------------\u001b[0m",
      "\u001b[0;31mTypeError\u001b[0m                                 Traceback (most recent call last)",
      "Cell \u001b[0;32mIn[220], line 1\u001b[0m\n\u001b[0;32m----> 1\u001b[0m arr2\u001b[39m.\u001b[39;49mastype(dtype\u001b[39m=\u001b[39;49m[\u001b[39m\"\u001b[39;49m\u001b[39ma\u001b[39;49m\u001b[39m\"\u001b[39;49m, \u001b[39m\"\u001b[39;49m\u001b[39mb\u001b[39;49m\u001b[39m\"\u001b[39;49m])\n",
      "\u001b[0;31mTypeError\u001b[0m: Field elements must be 2- or 3-tuples, got ''a''"
     ]
    }
   ],
   "source": [
    "arr2.astype(dtype=[\"a\", \"b\"])"
   ]
  },
  {
   "cell_type": "code",
   "execution_count": 230,
   "metadata": {},
   "outputs": [],
   "source": [
    "from talib import SMA"
   ]
  },
  {
   "cell_type": "code",
   "execution_count": 261,
   "metadata": {},
   "outputs": [
    {
     "ename": "Exception",
     "evalue": "input array has wrong dimensions",
     "output_type": "error",
     "traceback": [
      "\u001b[0;31m---------------------------------------------------------------------------\u001b[0m",
      "\u001b[0;31mException\u001b[0m                                 Traceback (most recent call last)",
      "Cell \u001b[0;32mIn[261], line 1\u001b[0m\n\u001b[0;32m----> 1\u001b[0m sma \u001b[39m=\u001b[39m SMA(f\u001b[39m.\u001b[39;49ma, \u001b[39m2\u001b[39;49m)\n",
      "File \u001b[0;32m~/.local/share/virtualenvs/danafx-F3BP0xaA/lib/python3.9/site-packages/talib/__init__.py:64\u001b[0m, in \u001b[0;36m_wrapper.<locals>.wrapper\u001b[0;34m(*args, **kwds)\u001b[0m\n\u001b[1;32m     61\u001b[0m     _args \u001b[39m=\u001b[39m args\n\u001b[1;32m     62\u001b[0m     _kwds \u001b[39m=\u001b[39m kwds\n\u001b[0;32m---> 64\u001b[0m result \u001b[39m=\u001b[39m func(\u001b[39m*\u001b[39;49m_args, \u001b[39m*\u001b[39;49m\u001b[39m*\u001b[39;49m_kwds)\n\u001b[1;32m     66\u001b[0m \u001b[39m# check to see if we got a streaming result\u001b[39;00m\n\u001b[1;32m     67\u001b[0m first_result \u001b[39m=\u001b[39m result[\u001b[39m0\u001b[39m] \u001b[39mif\u001b[39;00m \u001b[39misinstance\u001b[39m(result, \u001b[39mtuple\u001b[39m) \u001b[39melse\u001b[39;00m result\n",
      "File \u001b[0;32mtalib/_func.pxi:4536\u001b[0m, in \u001b[0;36mtalib._ta_lib.SMA\u001b[0;34m()\u001b[0m\n",
      "File \u001b[0;32mtalib/_func.pxi:24\u001b[0m, in \u001b[0;36mtalib._ta_lib.check_array\u001b[0;34m()\u001b[0m\n",
      "\u001b[0;31mException\u001b[0m: input array has wrong dimensions"
     ]
    }
   ],
   "source": [
    "sma = SMA(f.a, 2)"
   ]
  },
  {
   "cell_type": "code",
   "execution_count": 239,
   "metadata": {},
   "outputs": [],
   "source": [
    "sma = sma.astype([('sma2', '<f8')]).view(np.recarray)"
   ]
  },
  {
   "cell_type": "code",
   "execution_count": 240,
   "metadata": {},
   "outputs": [
    {
     "data": {
      "text/plain": [
       "rec.array([(nan,), (1.5,), (2.5,), (3.5,)],\n",
       "          dtype=[('sma2', '<f8')])"
      ]
     },
     "execution_count": 240,
     "metadata": {},
     "output_type": "execute_result"
    }
   ],
   "source": [
    "sma"
   ]
  },
  {
   "cell_type": "code",
   "execution_count": 249,
   "metadata": {},
   "outputs": [
    {
     "data": {
      "text/plain": [
       "rec.array([(1.,), (3.,), (5.,), (7.,)],\n",
       "          dtype=[('sma2', '<f8')])"
      ]
     },
     "execution_count": 249,
     "metadata": {},
     "output_type": "execute_result"
    }
   ],
   "source": [
    "arr2[] arr2.reshape(-1, 2)[:, 0].astype([('sma2', '<f8')]).view(np.recarray)"
   ]
  },
  {
   "cell_type": "code",
   "execution_count": 256,
   "metadata": {},
   "outputs": [],
   "source": [
    "arr3 = arr2.reshape(-1, 2)"
   ]
  },
  {
   "cell_type": "code",
   "execution_count": 254,
   "metadata": {},
   "outputs": [],
   "source": [
    "arr3[:,0] = arr3[:, 0].astype([('sma2', '<f8')])"
   ]
  },
  {
   "cell_type": "code",
   "execution_count": 257,
   "metadata": {},
   "outputs": [
    {
     "data": {
      "text/plain": [
       "array([[1, 2],\n",
       "       [3, 4],\n",
       "       [5, 6],\n",
       "       [7, 8]])"
      ]
     },
     "execution_count": 257,
     "metadata": {},
     "output_type": "execute_result"
    }
   ],
   "source": [
    "arr3"
   ]
  },
  {
   "cell_type": "code",
   "execution_count": 260,
   "metadata": {},
   "outputs": [
    {
     "data": {
      "text/plain": [
       "rec.array([(1, 2), (3, 4), (5, 6), (7, 8)],\n",
       "          dtype=[('col1', '<i8'), ('col2', '<i8')])"
      ]
     },
     "execution_count": 260,
     "metadata": {},
     "output_type": "execute_result"
    }
   ],
   "source": [
    "import numpy as np\n",
    "\n",
    "np.core.records.fromrecords(,\n",
    "names='col1,col2,col3')"
   ]
  },
  {
   "cell_type": "code",
   "execution_count": 274,
   "metadata": {},
   "outputs": [
    {
     "data": {
      "text/plain": [
       "numpy.recarray"
      ]
     },
     "execution_count": 274,
     "metadata": {},
     "output_type": "execute_result"
    }
   ],
   "source": [
    "import numpy as np\n",
    "from numpy.lib.recfunctions import merge_arrays\n",
    "dt1 = [('foo', int), ('bar', float)]\n",
    "dt2 = [('foobar', int), ('barfoo', float)]\n",
    "aa = np.ones(6, dtype=dt1).view(np.recarray)\n",
    "bb = np.zeros(6, dtype=dt2).view(np.recarray)\n",
    "\n",
    "cc = merge_arrays((aa, bb), asrecarray=True, flatten=True)\n",
    "type(cc)\n"
   ]
  },
  {
   "cell_type": "code",
   "execution_count": 275,
   "metadata": {},
   "outputs": [
    {
     "data": {
      "text/plain": [
       "rec.array([(1, 1., 0, 0.), (1, 1., 0, 0.), (1, 1., 0, 0.), (1, 1., 0, 0.),\n",
       "           (1, 1., 0, 0.), (1, 1., 0, 0.)],\n",
       "          dtype=[('foo', '<i8'), ('bar', '<f8'), ('foobar', '<i8'), ('barfoo', '<f8')])"
      ]
     },
     "execution_count": 275,
     "metadata": {},
     "output_type": "execute_result"
    }
   ],
   "source": [
    "cc"
   ]
  },
  {
   "cell_type": "code",
   "execution_count": 288,
   "metadata": {},
   "outputs": [],
   "source": [
    "x1=np.array([1.,2,3,4])\n",
    "x2=np.array(['a','dd','xyz','12'])\n",
    "x3=np.array([1.1,2,3,4])\n",
    "r1 = np.core.records.fromarrays([x1], names='a')\n",
    "r2 = np.core.records.fromarrays([x2], names='b')\n",
    "r3 = np.core.records.fromarrays([x3], names='c')\n",
    "\n",
    "\n",
    "#r"
   ]
  },
  {
   "cell_type": "code",
   "execution_count": 294,
   "metadata": {},
   "outputs": [
    {
     "data": {
      "text/plain": [
       "rec.array([(1., 'a', 1.1), (2., 'dd', 2. ), (3., 'xyz', 3. ),\n",
       "           (4., '12', 4. )],\n",
       "          dtype=[('a', '<f8'), ('b', '<U3'), ('c', '<f8')])"
      ]
     },
     "execution_count": 294,
     "metadata": {},
     "output_type": "execute_result"
    }
   ],
   "source": [
    "merge_arrays([r1, r2, r3], asrecarray=True, flatten=True)"
   ]
  },
  {
   "cell_type": "code",
   "execution_count": null,
   "metadata": {},
   "outputs": [],
   "source": []
  },
  {
   "cell_type": "code",
   "execution_count": 297,
   "metadata": {},
   "outputs": [
    {
     "data": {
      "text/plain": [
       "rec.array([(1., 'a'), (2., 'dd'), (3., 'xyz'), (4., '12')],\n",
       "          dtype=[('a', '<f8'), ('b', '<U3')])"
      ]
     },
     "execution_count": 297,
     "metadata": {},
     "output_type": "execute_result"
    }
   ],
   "source": [
    "np.core.records.fromarrays([x1, x2], names='a,b')"
   ]
  },
  {
   "cell_type": "code",
   "execution_count": null,
   "metadata": {},
   "outputs": [],
   "source": []
  }
 ],
 "metadata": {
  "kernelspec": {
   "display_name": "kpltrader-vbX6Bd8D",
   "language": "python",
   "name": "python3"
  },
  "language_info": {
   "codemirror_mode": {
    "name": "ipython",
    "version": 3
   },
   "file_extension": ".py",
   "mimetype": "text/x-python",
   "name": "python",
   "nbconvert_exporter": "python",
   "pygments_lexer": "ipython3",
   "version": "3.9.12"
  },
  "orig_nbformat": 4,
  "vscode": {
   "interpreter": {
    "hash": "c0b772cc2d9c3899c37ca797374151f98fe6b23d16403a226a740fe5963c1f77"
   }
  }
 },
 "nbformat": 4,
 "nbformat_minor": 2
}
