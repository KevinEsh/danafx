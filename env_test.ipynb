{
 "cells": [
  {
   "cell_type": "code",
   "execution_count": 2,
   "metadata": {},
   "outputs": [],
   "source": [
    "from setup import get_settings\n",
    "from trade.broker import BrokerSession\n",
    "import MetaTrader5 as mt5\n",
    "import pandas as pd\n",
    "login_settings = get_settings(\"settings/demo/login.json\")\n",
    "trading_settings = get_settings(\"settings/demo/trading.json\")\n",
    "\n",
    "mt5_login_settings = login_settings[\"mt5_login\"]\n",
    "\n",
    "session = BrokerSession()\n",
    "symbol = \"EURUSD\"\n",
    "\n",
    "# Start MT5\n",
    "session.start_session(mt5_login_settings)\n",
    "session.enable_symbols([symbol])\n"
   ]
  },
  {
   "cell_type": "code",
   "execution_count": 12,
   "metadata": {},
   "outputs": [
    {
     "data": {
      "text/plain": [
       "time\n",
       "1681365780    13.72549\n",
       "1681365840    13.72549\n",
       "1681365900    13.72549\n",
       "1681365960    13.72549\n",
       "1681366020    13.72549\n",
       "1681366080    13.72549\n",
       "1681366140    13.72549\n",
       "1681366200    13.72549\n",
       "1681366260    13.72549\n",
       "1681366320    13.72549\n",
       "1681366380    13.72549\n",
       "1681366440    13.72549\n",
       "1681366500    13.72549\n",
       "1681366560    13.72549\n",
       "Name: rsi, dtype: float64"
      ]
     },
     "execution_count": 12,
     "metadata": {},
     "output_type": "execute_result"
    }
   ],
   "source": [
    "from trade.indicators import RSIIndicator\n",
    "c = session.get_candles(symbol, \"M1\", 14, 0, as_dataframe=True)\n",
    "RSIIndicator(c.close).rsi()"
   ]
  },
  {
   "cell_type": "code",
   "execution_count": 28,
   "metadata": {},
   "outputs": [
    {
     "data": {
      "text/plain": [
       "array([        nan,         nan,         nan,         nan,         nan,\n",
       "               nan,         nan,         nan,         nan,         nan,\n",
       "               nan,         nan,         nan,         nan, 45.83901774,\n",
       "       43.115191  , 41.74833658, 54.18941067])"
      ]
     },
     "execution_count": 28,
     "metadata": {},
     "output_type": "execute_result"
    }
   ],
   "source": [
    "p = np.array([20,11.25,12.35,14.5,18.45,12.75,15.35,13.05,16.10,12.20,11.65,13.25,15.30,14.85,16.15,19.05,21.45,17.55])[::-1]\n",
    "RSI(p)"
   ]
  },
  {
   "cell_type": "code",
   "execution_count": 2,
   "metadata": {},
   "outputs": [],
   "source": [
    "from trade.strategies import MovingAverageStrategy\n",
    "mav = MovingAverageStrategy(5, 200)\n"
   ]
  },
  {
   "cell_type": "code",
   "execution_count": 24,
   "metadata": {},
   "outputs": [
    {
     "name": "stdout",
     "output_type": "stream",
     "text": [
      "11.846058800000037\n",
      "11.345299699999941\n"
     ]
    }
   ],
   "source": [
    "import numpy as np\n",
    "import timeit\n",
    "\n",
    "arr = np.arange(1000000)\n",
    "\n",
    "\n",
    "def append_value(arr):\n",
    "    return np.append(arr, 1000000)\n",
    "\n",
    "\n",
    "def concatenate_value(arr):\n",
    "    return np.concatenate([arr, [1000000]])\n",
    "\n",
    "\n",
    "print(timeit.timeit(lambda: append_value(arr), number=10000))\n",
    "# Output: 10.277582999999988\n",
    "\n",
    "print(timeit.timeit(lambda: concatenate_value(arr), number=10000))\n",
    "# Output: 5.141081399999996\n"
   ]
  },
  {
   "cell_type": "code",
   "execution_count": 25,
   "metadata": {},
   "outputs": [
    {
     "name": "stdout",
     "output_type": "stream",
     "text": [
      "1.19 ms ± 80.3 µs per loop (mean ± std. dev. of 7 runs, 1,000 loops each)\n"
     ]
    }
   ],
   "source": [
    "%%timeit\n",
    "np.append(arr, 1000000)\n"
   ]
  },
  {
   "cell_type": "code",
   "execution_count": 27,
   "metadata": {},
   "outputs": [
    {
     "name": "stdout",
     "output_type": "stream",
     "text": [
      "1.18 ms ± 71.4 µs per loop (mean ± std. dev. of 7 runs, 1,000 loops each)\n"
     ]
    }
   ],
   "source": [
    "%%timeit\n",
    "np.concatenate([arr, [1000000]])\n"
   ]
  },
  {
   "cell_type": "code",
   "execution_count": 2,
   "metadata": {},
   "outputs": [],
   "source": [
    "symbols = mt5.symbols_get()"
   ]
  },
  {
   "cell_type": "code",
   "execution_count": 9,
   "metadata": {},
   "outputs": [
    {
     "name": "stdout",
     "output_type": "stream",
     "text": [
      "Forex\\Majors\\EURUSD 0.01 0.01\n",
      "Indices\\Indices Spot\\Major Spot Indices\\AUS200 0.1 0.1\n",
      "Indices\\Indices Spot\\Major Spot Indices\\JP225 1.0 1.0\n",
      "Indices\\Indices Spot\\Major Spot Indices\\UK100 0.1 0.1\n",
      "Indices\\Indices Spot\\Minor Spot Indices\\US2000 1.0 1.0\n",
      "Indices\\Indices Spot\\Major Spot Indices\\US30 0.1 0.1\n",
      "Commodities\\Metals\\XAGEUR 0.01 0.01\n",
      "Commodities\\Energies\\Energies Spot\\XBRUSD 0.5 0.5\n",
      "Crypto\\BTCUSD 0.01 0.01\n",
      "Crypto\\LTCUSD 0.05 0.01\n",
      "Crypto\\DSHUSD 1.0 0.01\n",
      "Stock CFD's\\Nasdaq\\AAPL.NAS 0.1 0.1\n",
      "Crypto\\XRPUSD 1.0 0.01\n",
      "Crypto\\XLMUSD 1000.0 100.0\n",
      "Crypto\\EOSUSD 1.0 0.01\n",
      "Stock CFD's\\NYSE\\ETF\\DBA.NYSE 0.1 0.1\n",
      "Commodities\\Metals\\XAUAUD 0.01 0.01\n",
      "Stock CFD's\\NYSE\\LIN.NYSE 0.1 0.1\n",
      "Indices\\Indices Spot\\Minor Spot Indices\\CA60 1.0 1.0\n",
      "Stock CFD's\\Nasdaq\\AMD.NAS 0.1 0.1\n",
      "Crypto\\ADAUSD 1.0 0.01\n",
      "Stock CFD's\\Nasdaq\\HOOD.NAS 0.1 0.1\n",
      "Crypto\\XTZUSD 1.0 0.01\n",
      "Crypto\\BNBUSD 0.01 0.01\n",
      "Indices\\Indices Spot\\Major Spot Indices\\DE40 0.1 0.1\n",
      "Indices\\Indices Spot\\Minor Spot Indices\\MidDE50 1.0 1.0\n",
      "Stock CFD's\\NYSE\\PANW.NAS 0.1 0.1\n",
      "Commodities\\Metals\\XAUJPY 0.01 0.01\n",
      "Stock CFD's\\Nasdaq\\PARA.NAS 0.1 0.1\n",
      "Crypto\\SOLUSD 1.0 0.01\n",
      "Stock CFD's\\Nasdaq\\ABEO.NAS 0.1 0.1\n",
      "Commodities\\Softs\\Wheat_K3 1.0 1.0\n",
      "Stock CFD's\\NYSE\\GRMN.NYSE 0.1 0.1\n",
      "Crypto\\AAVEUSD 1.0 1.0\n",
      "Stock CFD's\\Nasdaq\\XWEL.NAS 0.1 0.1\n",
      "Stock CFD's\\UK\\LSE\\IDS.LSE 1.0 1.0\n",
      "Stock CFD's\\NYSE\\BN.NYSE 0.1 0.1\n"
     ]
    }
   ],
   "source": [
    "b = -1\n",
    "for s in symbols:\n",
    "    si = mt5.symbol_info(s.name)\n",
    "    a = si.volume_min\n",
    "    if a != b:\n",
    "        print(s.path, a, si.volume_step)\n",
    "        b = a"
   ]
  },
  {
   "cell_type": "code",
   "execution_count": 17,
   "metadata": {},
   "outputs": [
    {
     "data": {
      "text/plain": [
       "1"
      ]
     },
     "execution_count": 17,
     "metadata": {},
     "output_type": "execute_result"
    }
   ],
   "source": [
    "q = 1.00000\n",
    "len(str(q)) - str(q).index(\".\") -1"
   ]
  },
  {
   "cell_type": "code",
   "execution_count": 29,
   "metadata": {},
   "outputs": [
    {
     "name": "stdout",
     "output_type": "stream",
     "text": [
      "356 µs ± 26 µs per loop (mean ± std. dev. of 7 runs, 1,000 loops each)\n"
     ]
    }
   ],
   "source": [
    "%%timeit\n",
    "pd.DataFrame(a)"
   ]
  },
  {
   "cell_type": "code",
   "execution_count": 79,
   "metadata": {},
   "outputs": [
    {
     "data": {
      "text/plain": [
       "rec.array([(1679875440, 1.07721, 1.07721, 1.07721, 1.07721, 1, 33, 0)],\n",
       "          dtype=[('time', '<i8'), ('open', '<f8'), ('high', '<f8'), ('low', '<f8'), ('close', '<f8'), ('tick_volume', '<u8'), ('spread', '<i4'), ('real_volume', '<u8')])"
      ]
     },
     "execution_count": 79,
     "metadata": {},
     "output_type": "execute_result"
    }
   ],
   "source": [
    "#%%timeit\n",
    "session.get_candles(\"EURUSD\", \"M1\", 1)"
   ]
  },
  {
   "cell_type": "code",
   "execution_count": 3,
   "metadata": {},
   "outputs": [
    {
     "data": {
      "text/plain": [
       "(0.999, 1.002)"
      ]
     },
     "execution_count": 3,
     "metadata": {},
     "output_type": "execute_result"
    }
   ],
   "source": [
    "session.calculate_sltp(\"EURUSD\", \"buy\", 1.0000, 10, 2)\n"
   ]
  },
  {
   "cell_type": "code",
   "execution_count": 20,
   "metadata": {},
   "outputs": [
    {
     "data": {
      "text/plain": [
       "AccountInfo(login=51136661, trade_mode=0, leverage=500, limit_orders=200, margin_so_mode=0, trade_allowed=True, trade_expert=True, margin_mode=2, currency_digits=2, fifo_close=False, balance=420.11, credit=0.0, profit=0.0, equity=420.11, margin=0.0, margin_free=420.11, margin_level=0.0, margin_so_call=100.0, margin_so_so=50.0, margin_initial=0.0, margin_maintenance=0.0, assets=0.0, liabilities=0.0, commission_blocked=0.0, name='Reyes Vega Leonardo Moises', server='ICMarketsSC-Demo', currency='GBP', company='Raw Trading Ltd')"
      ]
     },
     "execution_count": 20,
     "metadata": {},
     "output_type": "execute_result"
    }
   ],
   "source": [
    "session.calculate_sltp(\"EURUSD\", \"buy\", 1.08946, 10, 2)"
   ]
  },
  {
   "cell_type": "code",
   "execution_count": 22,
   "metadata": {},
   "outputs": [],
   "source": []
  },
  {
   "cell_type": "code",
   "execution_count": 26,
   "metadata": {},
   "outputs": [],
   "source": [
    "symbols = mt5.symbols_get()"
   ]
  },
  {
   "cell_type": "code",
   "execution_count": 29,
   "metadata": {},
   "outputs": [
    {
     "data": {
      "text/plain": [
       "SymbolInfo(custom=False, chart_mode=0, select=True, visible=True, session_deals=0, session_buy_orders=0, session_sell_orders=0, volume=0, volumehigh=0, volumelow=0, time=1679551157, digits=5, spread=0, spread_float=True, ticks_bookdepth=10, trade_calc_mode=0, trade_mode=4, start_time=0, expiration_time=0, trade_stops_level=0, trade_freeze_level=0, trade_exemode=2, swap_mode=1, swap_rollover3days=3, margin_hedged_use_leg=False, expiration_mode=15, filling_mode=2, order_mode=127, order_gtc_mode=0, option_mode=0, option_right=0, bid=1.08952, bidhigh=1.0899, bidlow=1.08555, ask=1.08952, askhigh=1.0899, asklow=1.08561, last=0.0, lasthigh=0.0, lastlow=0.0, volume_real=0.0, volumehigh_real=0.0, volumelow_real=0.0, option_strike=0.0, point=1e-05, trade_tick_value=0.8120969968653058, trade_tick_value_profit=0.8120969968653058, trade_tick_value_loss=0.812123377783553, trade_tick_size=1e-05, trade_contract_size=100000.0, trade_accrued_interest=0.0, trade_face_value=0.0, trade_liquidity_rate=0.0, volume_min=0.01, volume_max=200.0, volume_step=0.01, volume_limit=0.0, swap_long=-7.12, swap_short=4.65, margin_initial=100000.0, margin_maintenance=0.0, session_volume=0.0, session_turnover=0.0, session_interest=0.0, session_buy_orders_volume=0.0, session_sell_orders_volume=0.0, session_open=1.08555, session_close=1.08551, session_aw=0.0, session_price_settlement=0.0, session_price_limit_min=0.0, session_price_limit_max=0.0, margin_hedged=0.0, price_change=0.3694, price_volatility=0.0, price_theoretical=0.0, price_greeks_delta=0.0, price_greeks_theta=0.0, price_greeks_gamma=0.0, price_greeks_vega=0.0, price_greeks_rho=0.0, price_greeks_omega=0.0, price_sensitivity=0.0, basis='', category='', currency_base='EUR', currency_profit='USD', currency_margin='EUR', bank='', description='Euro vs US Dollar', exchange='', formula='', isin='', name='EURUSD', page='', path='Forex\\\\Majors\\\\EURUSD')"
      ]
     },
     "execution_count": 29,
     "metadata": {},
     "output_type": "execute_result"
    }
   ],
   "source": [
    "symbols[0]"
   ]
  },
  {
   "cell_type": "code",
   "execution_count": 2,
   "metadata": {},
   "outputs": [
    {
     "name": "stdout",
     "output_type": "stream",
     "text": [
      "409.3 1.2323\n"
     ]
    },
    {
     "data": {
      "text/plain": [
       "(1.092360597136, 1.089268805728)"
      ]
     },
     "execution_count": 2,
     "metadata": {},
     "output_type": "execute_result"
    }
   ],
   "source": [
    "session.calculate_sltp_2(\"EURUSD\", \"sell\", price=1.09133, lot_size=0.05, risk_pct=0.01, rr_ratio=2)\n"
   ]
  },
  {
   "cell_type": "code",
   "execution_count": 80,
   "metadata": {},
   "outputs": [],
   "source": [
    "si = mt5.symbol_info(\"GBPUSD\")\n",
    "si2 = mt5.symbol_info_tick(\"GBPUSD\")\n",
    "t = session.get_candles(\"GBPUSD\", \"M1\", 1)\n",
    "t2 = session.get_ticks(\"GBPUSD\", 5)"
   ]
  },
  {
   "cell_type": "code",
   "execution_count": 81,
   "metadata": {},
   "outputs": [
    {
     "data": {
      "text/plain": [
       "array([1.22351, 1.22362, 1.22362, 1.22354, 1.22354])"
      ]
     },
     "execution_count": 81,
     "metadata": {},
     "output_type": "execute_result"
    }
   ],
   "source": [
    "t2.ask"
   ]
  },
  {
   "cell_type": "code",
   "execution_count": 67,
   "metadata": {},
   "outputs": [
    {
     "data": {
      "text/plain": [
       "1.22295"
      ]
     },
     "execution_count": 67,
     "metadata": {},
     "output_type": "execute_result"
    }
   ],
   "source": [
    "si.bid"
   ]
  },
  {
   "cell_type": "code",
   "execution_count": 62,
   "metadata": {},
   "outputs": [
    {
     "data": {
      "text/plain": [
       "Tick(time=1679702218, bid=1.22295, ask=1.22323, last=0.0, volume=0, time_msc=1679702218646, flags=6, volume_real=0.0)"
      ]
     },
     "execution_count": 62,
     "metadata": {},
     "output_type": "execute_result"
    }
   ],
   "source": [
    "si2"
   ]
  },
  {
   "cell_type": "code",
   "execution_count": 3,
   "metadata": {},
   "outputs": [
    {
     "data": {
      "text/html": [
       "<div>\n",
       "<style scoped>\n",
       "    .dataframe tbody tr th:only-of-type {\n",
       "        vertical-align: middle;\n",
       "    }\n",
       "\n",
       "    .dataframe tbody tr th {\n",
       "        vertical-align: top;\n",
       "    }\n",
       "\n",
       "    .dataframe thead th {\n",
       "        text-align: right;\n",
       "    }\n",
       "</style>\n",
       "<table border=\"1\" class=\"dataframe\">\n",
       "  <thead>\n",
       "    <tr style=\"text-align: right;\">\n",
       "      <th></th>\n",
       "      <th>time</th>\n",
       "      <th>open</th>\n",
       "      <th>high</th>\n",
       "      <th>low</th>\n",
       "      <th>close</th>\n",
       "      <th>tick_volume</th>\n",
       "      <th>spread</th>\n",
       "      <th>real_volume</th>\n",
       "    </tr>\n",
       "  </thead>\n",
       "  <tbody>\n",
       "    <tr>\n",
       "      <th>0</th>\n",
       "      <td>1679565600</td>\n",
       "      <td>1.23238</td>\n",
       "      <td>1.23256</td>\n",
       "      <td>1.23164</td>\n",
       "      <td>1.23229</td>\n",
       "      <td>737</td>\n",
       "      <td>0</td>\n",
       "      <td>0</td>\n",
       "    </tr>\n",
       "  </tbody>\n",
       "</table>\n",
       "</div>"
      ],
      "text/plain": [
       "         time     open     high      low    close  tick_volume  spread  \\\n",
       "0  1679565600  1.23238  1.23256  1.23164  1.23229          737       0   \n",
       "\n",
       "   real_volume  \n",
       "0            0  "
      ]
     },
     "execution_count": 3,
     "metadata": {},
     "output_type": "execute_result"
    }
   ],
   "source": [
    "pd.DataFrame(mt5.copy_rates_from_pos(\"GBPUSD\", mt5.TIMEFRAME_H1, 0, 1))\n"
   ]
  },
  {
   "cell_type": "code",
   "execution_count": 7,
   "metadata": {},
   "outputs": [
    {
     "name": "stdout",
     "output_type": "stream",
     "text": [
      "61.9 µs ± 2.33 µs per loop (mean ± std. dev. of 7 runs, 10,000 loops each)\n"
     ]
    }
   ],
   "source": [
    "#%%timeit\n",
    "a = mt5.copy_rates_from_pos(\"GBPUSD\", mt5.TIMEFRAME_M1, 0, 1)\n",
    "b = a.view(np.recarray)\n"
   ]
  },
  {
   "cell_type": "code",
   "execution_count": 26,
   "metadata": {},
   "outputs": [],
   "source": [
    "a = mt5.positions_get(symbol=\"EURUSD\")\n"
   ]
  },
  {
   "cell_type": "code",
   "execution_count": 28,
   "metadata": {},
   "outputs": [
    {
     "data": {
      "text/plain": [
       "'EURUSD'"
      ]
     },
     "execution_count": 28,
     "metadata": {},
     "output_type": "execute_result"
    }
   ],
   "source": [
    "a[0].symbol"
   ]
  },
  {
   "cell_type": "code",
   "execution_count": 20,
   "metadata": {},
   "outputs": [
    {
     "data": {
      "text/plain": [
       "False"
      ]
     },
     "execution_count": 20,
     "metadata": {},
     "output_type": "execute_result"
    }
   ],
   "source": [
    "not 100"
   ]
  },
  {
   "cell_type": "code",
   "execution_count": 101,
   "metadata": {},
   "outputs": [
    {
     "data": {
      "text/plain": [
       "(TradeOrder(ticket=359065032, time_setup=1679875486, time_setup_msc=1679875486789, time_done=0, time_done_msc=0, time_expiration=0, type=2, type_time=0, type_filling=2, state=1, magic=0, position_id=0, position_by_id=0, reason=0, volume_initial=0.05, volume_current=0.05, price_open=1.18674, sl=0.0, tp=0.0, price_current=1.22426, price_stoplimit=0.0, symbol='GBPUSD', comment='', external_id=''),)"
      ]
     },
     "execution_count": 101,
     "metadata": {},
     "output_type": "execute_result"
    }
   ],
   "source": [
    "session.create_order()\n",
    "mt5.orders_get(symbol=\"GBPUSD\")\n"
   ]
  },
  {
   "cell_type": "code",
   "execution_count": 5,
   "metadata": {},
   "outputs": [],
   "source": [
    "from enum import Enum\n",
    "import MetaTrader5 as mt5\n",
    "class TimeFrames(Enum):\n",
    "    M1 = mt5.TIMEFRAME_M1\n",
    "    M2 = mt5.TIMEFRAME_M2\n",
    "    M3 = mt5.TIMEFRAME_M3\n",
    "    M4 = mt5.TIMEFRAME_M4\n",
    "    M5 = mt5.TIMEFRAME_M5\n",
    "    M6 = mt5.TIMEFRAME_M6\n",
    "    M10 = mt5.TIMEFRAME_M10\n",
    "    M12 = mt5.TIMEFRAME_M12\n",
    "    M15 = mt5.TIMEFRAME_M15\n",
    "    M20 = mt5.TIMEFRAME_M20\n",
    "    M30 = mt5.TIMEFRAME_M30\n",
    "    H1 = mt5.TIMEFRAME_H1\n",
    "    H2 = mt5.TIMEFRAME_H2\n",
    "    H3 = mt5.TIMEFRAME_H3\n",
    "    H4 = mt5.TIMEFRAME_H4\n",
    "    H6 = mt5.TIMEFRAME_H6\n",
    "    H8 = mt5.TIMEFRAME_H8\n",
    "    H12 = mt5.TIMEFRAME_H12\n",
    "    D1 = mt5.TIMEFRAME_D1\n",
    "    W1 = mt5.TIMEFRAME_W1\n",
    "    MN1 = mt5.TIMEFRAME_MN1\n"
   ]
  },
  {
   "cell_type": "code",
   "execution_count": 9,
   "metadata": {},
   "outputs": [
    {
     "data": {
      "text/plain": [
       "['M1',\n",
       " 'M2',\n",
       " 'M3',\n",
       " 'M4',\n",
       " 'M5',\n",
       " 'M6',\n",
       " 'M10',\n",
       " 'M12',\n",
       " 'M15',\n",
       " 'M20',\n",
       " 'M30',\n",
       " 'H1',\n",
       " 'H2',\n",
       " 'H3',\n",
       " 'H4',\n",
       " 'H6',\n",
       " 'H8',\n",
       " 'H12',\n",
       " 'D1',\n",
       " 'W1',\n",
       " 'MN1']"
      ]
     },
     "execution_count": 9,
     "metadata": {},
     "output_type": "execute_result"
    }
   ],
   "source": [
    "TimeFrames._member_names_\n"
   ]
  },
  {
   "cell_type": "code",
   "execution_count": 18,
   "metadata": {},
   "outputs": [
    {
     "data": {
      "text/plain": [
       "'D1'"
      ]
     },
     "execution_count": 18,
     "metadata": {},
     "output_type": "execute_result"
    }
   ],
   "source": [
    "TimeFrames.D1.name"
   ]
  },
  {
   "cell_type": "code",
   "execution_count": 17,
   "metadata": {},
   "outputs": [
    {
     "data": {
      "text/plain": [
       "[]"
      ]
     },
     "execution_count": 17,
     "metadata": {},
     "output_type": "execute_result"
    }
   ],
   "source": [
    "A._member_names_"
   ]
  },
  {
   "cell_type": "code",
   "execution_count": 44,
   "metadata": {},
   "outputs": [
    {
     "data": {
      "text/plain": [
       "'BCHUSD'"
      ]
     },
     "execution_count": 44,
     "metadata": {},
     "output_type": "execute_result"
    }
   ],
   "source": [
    "mt5.symbols_get(\"BCH\")[0].name"
   ]
  },
  {
   "cell_type": "code",
   "execution_count": 59,
   "metadata": {},
   "outputs": [
    {
     "data": {
      "text/plain": [
       "True"
      ]
     },
     "execution_count": 59,
     "metadata": {},
     "output_type": "execute_result"
    }
   ],
   "source": [
    "mt5.symbol_select(\"USDTRY\", True)"
   ]
  },
  {
   "cell_type": "code",
   "execution_count": 21,
   "metadata": {},
   "outputs": [],
   "source": [
    "import numpy as np\n",
    "\n",
    "o = np.arange(5)"
   ]
  },
  {
   "cell_type": "code",
   "execution_count": 12,
   "metadata": {},
   "outputs": [],
   "source": [
    "d = np.diff(o)"
   ]
  },
  {
   "cell_type": "code",
   "execution_count": 14,
   "metadata": {},
   "outputs": [
    {
     "data": {
      "text/plain": [
       "0"
      ]
     },
     "execution_count": 14,
     "metadata": {},
     "output_type": "execute_result"
    }
   ],
   "source": [
    "d[d > 0].sum()"
   ]
  },
  {
   "cell_type": "code",
   "execution_count": 21,
   "metadata": {},
   "outputs": [
    {
     "data": {
      "text/plain": [
       "array([1., 1., 1.])"
      ]
     },
     "execution_count": 21,
     "metadata": {},
     "output_type": "execute_result"
    }
   ],
   "source": [
    "a = np.ones(3)\n",
    "np.append(a, np.array([]))\n",
    "np.recarray"
   ]
  },
  {
   "cell_type": "code",
   "execution_count": 23,
   "metadata": {},
   "outputs": [
    {
     "data": {
      "text/plain": [
       "slice(None, 2, 3)"
      ]
     },
     "execution_count": 23,
     "metadata": {},
     "output_type": "execute_result"
    }
   ],
   "source": [
    "np.s_[:2:3]"
   ]
  },
  {
   "cell_type": "code",
   "execution_count": 32,
   "metadata": {},
   "outputs": [
    {
     "data": {
      "text/plain": [
       "array([1, 1, 1, 1, 6])"
      ]
     },
     "execution_count": 32,
     "metadata": {},
     "output_type": "execute_result"
    }
   ],
   "source": [
    "np.diff(o, append=10)"
   ]
  },
  {
   "cell_type": "code",
   "execution_count": 29,
   "metadata": {},
   "outputs": [
    {
     "ename": "ValueError",
     "evalue": "mismatch in size of old and new data-descriptor",
     "output_type": "error",
     "traceback": [
      "\u001b[1;31m---------------------------------------------------------------------------\u001b[0m",
      "\u001b[1;31mValueError\u001b[0m                                Traceback (most recent call last)",
      "\u001b[1;32mc:\\Users\\grung\\Desktop\\kpltrader\\env_test.ipynb Celda 39\u001b[0m in \u001b[0;36m1\n\u001b[1;32m----> <a href='vscode-notebook-cell:/c%3A/Users/grung/Desktop/kpltrader/env_test.ipynb#X51sZmlsZQ%3D%3D?line=0'>1</a>\u001b[0m a \u001b[39m=\u001b[39m np\u001b[39m.\u001b[39;49marray([[\u001b[39m1\u001b[39;49m,]], dtype\u001b[39m=\u001b[39;49m(\u001b[39m\"\u001b[39;49m\u001b[39mc\u001b[39;49m\u001b[39m\"\u001b[39;49m, \u001b[39m\"\u001b[39;49m\u001b[39m<f8\u001b[39;49m\u001b[39m\"\u001b[39;49m))\n\u001b[0;32m      <a href='vscode-notebook-cell:/c%3A/Users/grung/Desktop/kpltrader/env_test.ipynb#X51sZmlsZQ%3D%3D?line=1'>2</a>\u001b[0m a \u001b[39m=\u001b[39m a\u001b[39m.\u001b[39mview(np\u001b[39m.\u001b[39mrecarray)\n",
      "\u001b[1;31mValueError\u001b[0m: mismatch in size of old and new data-descriptor"
     ]
    }
   ],
   "source": [
    "a = np.array([[1,]], dtype=(\"c\", \"<f8\"))\n",
    "a = a.view(np.recarray)"
   ]
  },
  {
   "cell_type": "code",
   "execution_count": 33,
   "metadata": {},
   "outputs": [],
   "source": [
    "c = session.get_candles(symbol, \"M1\", 3)\n",
    "d = session.get_candles(symbol, \"M1\", 1)\n"
   ]
  },
  {
   "cell_type": "code",
   "execution_count": 37,
   "metadata": {},
   "outputs": [],
   "source": [
    "e = np.append(c, d)"
   ]
  },
  {
   "cell_type": "code",
   "execution_count": 41,
   "metadata": {},
   "outputs": [
    {
     "data": {
      "text/plain": [
       "rec.array([(1681360740, 1.09974, 1.0999, 1.09974, 1.0999, 10, 0, 0),\n",
       "           (1681360740, 1.09974, 1.0999, 1.09974, 1.0999, 10, 0, 0)],\n",
       "          dtype=[('time', '<i8'), ('open', '<f8'), ('high', '<f8'), ('low', '<f8'), ('close', '<f8'), ('tick_volume', '<u8'), ('spread', '<i4'), ('real_volume', '<u8')])"
      ]
     },
     "execution_count": 41,
     "metadata": {},
     "output_type": "execute_result"
    }
   ],
   "source": [
    "np.delete(e, np.s_[:2], axis=0).view(np.recarray)\n"
   ]
  },
  {
   "cell_type": "code",
   "execution_count": 42,
   "metadata": {},
   "outputs": [
    {
     "data": {
      "text/plain": [
       "array([(1681360620, 1.09986, 1.09999, 1.09986, 1.09989, 52, 0, 0),\n",
       "       (1681360680, 1.0999 , 1.0999 , 1.09972, 1.09975, 70, 0, 0),\n",
       "       (1681360740, 1.09974, 1.0999 , 1.09974, 1.0999 , 10, 0, 0),\n",
       "       (1681360740, 1.09974, 1.0999 , 1.09974, 1.0999 , 10, 0, 0)],\n",
       "      dtype=[('time', '<i8'), ('open', '<f8'), ('high', '<f8'), ('low', '<f8'), ('close', '<f8'), ('tick_volume', '<u8'), ('spread', '<i4'), ('real_volume', '<u8')])"
      ]
     },
     "execution_count": 42,
     "metadata": {},
     "output_type": "execute_result"
    }
   ],
   "source": [
    "e"
   ]
  },
  {
   "cell_type": "code",
   "execution_count": null,
   "metadata": {},
   "outputs": [],
   "source": []
  }
 ],
 "metadata": {
  "kernelspec": {
   "display_name": "kpltrader-vbX6Bd8D",
   "language": "python",
   "name": "python3"
  },
  "language_info": {
   "codemirror_mode": {
    "name": "ipython",
    "version": 3
   },
   "file_extension": ".py",
   "mimetype": "text/x-python",
   "name": "python",
   "nbconvert_exporter": "python",
   "pygments_lexer": "ipython3",
   "version": "3.9.13"
  },
  "orig_nbformat": 4,
  "vscode": {
   "interpreter": {
    "hash": "c0b772cc2d9c3899c37ca797374151f98fe6b23d16403a226a740fe5963c1f77"
   }
  }
 },
 "nbformat": 4,
 "nbformat_minor": 2
}
