{
 "cells": [
  {
   "cell_type": "code",
   "execution_count": 1,
   "metadata": {},
   "outputs": [],
   "source": [
    "from setup import get_settings\n",
    "from broker import BrokerSession\n",
    "import MetaTrader5 as mt5\n",
    "import pandas as pd\n",
    "login_settings = get_settings(\"settings/demo/login.json\")\n",
    "trading_settings = get_settings(\"settings/demo/trading.json\")\n",
    "\n",
    "mt5_login_settings = login_settings[\"mt5_login\"]\n",
    "\n",
    "session = BrokerSession()\n",
    "symbol = \"EURUSD\"\n",
    "\n",
    "# Start MT5\n",
    "session.start_session(mt5_login_settings)\n",
    "session.initialize_symbols([symbol])\n"
   ]
  },
  {
   "cell_type": "code",
   "execution_count": 2,
   "metadata": {},
   "outputs": [],
   "source": [
    "from trade.strategies import MovingAverageStrategy\n",
    "mav = MovingAverageStrategy(5, 200)\n"
   ]
  },
  {
   "cell_type": "code",
   "execution_count": 3,
   "metadata": {},
   "outputs": [
    {
     "data": {
      "text/plain": [
       "MovingAverageStrategy(short_window=5, long_window=200)"
      ]
     },
     "execution_count": 3,
     "metadata": {},
     "output_type": "execute_result"
    }
   ],
   "source": [
    "mav"
   ]
  },
  {
   "cell_type": "code",
   "execution_count": 4,
   "metadata": {},
   "outputs": [
    {
     "name": "stdout",
     "output_type": "stream",
     "text": [
      "EntrySignal.SELL\n",
      "EntrySignal.SELL\n",
      "EntrySignal.SELL\n",
      "EntrySignal.SELL\n",
      "EntrySignal.SELL\n"
     ]
    },
    {
     "ename": "KeyboardInterrupt",
     "evalue": "",
     "output_type": "error",
     "traceback": [
      "\u001b[1;31m---------------------------------------------------------------------------\u001b[0m",
      "\u001b[1;31mKeyboardInterrupt\u001b[0m                         Traceback (most recent call last)",
      "\u001b[1;32mc:\\Users\\grung\\Desktop\\kpltrader\\env_test.ipynb Celda 4\u001b[0m in \u001b[0;36m1\n\u001b[0;32m     <a href='vscode-notebook-cell:/c%3A/Users/grung/Desktop/kpltrader/env_test.ipynb#X44sZmlsZQ%3D%3D?line=16'>17</a>\u001b[0m \u001b[39mprint\u001b[39m(signal)\n\u001b[0;32m     <a href='vscode-notebook-cell:/c%3A/Users/grung/Desktop/kpltrader/env_test.ipynb#X44sZmlsZQ%3D%3D?line=17'>18</a>\u001b[0m i \u001b[39m+\u001b[39m\u001b[39m=\u001b[39m \u001b[39m1\u001b[39m\n\u001b[1;32m---> <a href='vscode-notebook-cell:/c%3A/Users/grung/Desktop/kpltrader/env_test.ipynb#X44sZmlsZQ%3D%3D?line=18'>19</a>\u001b[0m sleep(\u001b[39m5\u001b[39;49m)\n",
      "\u001b[1;31mKeyboardInterrupt\u001b[0m: "
     ]
    }
   ],
   "source": [
    "from time import sleep\n",
    "mav.data = session.get_candles(\n",
    "    symbol,\n",
    "    \"M1\",\n",
    "    201\n",
    ")[0:-1]\n",
    "\n",
    "n = 100\n",
    "i = 0\n",
    "while i < n:\n",
    "    datum =  session.get_candles(\n",
    "        symbol,\n",
    "        \"M1\",\n",
    "        1\n",
    "    )[-1]\n",
    "    signal = mav.get_entry_signal(datum)\n",
    "    print(signal)\n",
    "    i += 1\n",
    "    sleep(5)\n"
   ]
  },
  {
   "cell_type": "code",
   "execution_count": 15,
   "metadata": {},
   "outputs": [
    {
     "name": "stdout",
     "output_type": "stream",
     "text": [
      "73.3 µs ± 1.54 µs per loop (mean ± std. dev. of 7 runs, 10,000 loops each)\n"
     ]
    }
   ],
   "source": [
    "%%timeit\n",
    "mav.data = session.get_candles(\n",
    "    symbol,\n",
    "    \"M1\",\n",
    "    1\n",
    ")[0:-1]\n"
   ]
  },
  {
   "cell_type": "code",
   "execution_count": 2,
   "metadata": {},
   "outputs": [],
   "source": [
    "symbols = mt5.symbols_get()"
   ]
  },
  {
   "cell_type": "code",
   "execution_count": 9,
   "metadata": {},
   "outputs": [
    {
     "name": "stdout",
     "output_type": "stream",
     "text": [
      "Forex\\Majors\\EURUSD 0.01 0.01\n",
      "Indices\\Indices Spot\\Major Spot Indices\\AUS200 0.1 0.1\n",
      "Indices\\Indices Spot\\Major Spot Indices\\JP225 1.0 1.0\n",
      "Indices\\Indices Spot\\Major Spot Indices\\UK100 0.1 0.1\n",
      "Indices\\Indices Spot\\Minor Spot Indices\\US2000 1.0 1.0\n",
      "Indices\\Indices Spot\\Major Spot Indices\\US30 0.1 0.1\n",
      "Commodities\\Metals\\XAGEUR 0.01 0.01\n",
      "Commodities\\Energies\\Energies Spot\\XBRUSD 0.5 0.5\n",
      "Crypto\\BTCUSD 0.01 0.01\n",
      "Crypto\\LTCUSD 0.05 0.01\n",
      "Crypto\\DSHUSD 1.0 0.01\n",
      "Stock CFD's\\Nasdaq\\AAPL.NAS 0.1 0.1\n",
      "Crypto\\XRPUSD 1.0 0.01\n",
      "Crypto\\XLMUSD 1000.0 100.0\n",
      "Crypto\\EOSUSD 1.0 0.01\n",
      "Stock CFD's\\NYSE\\ETF\\DBA.NYSE 0.1 0.1\n",
      "Commodities\\Metals\\XAUAUD 0.01 0.01\n",
      "Stock CFD's\\NYSE\\LIN.NYSE 0.1 0.1\n",
      "Indices\\Indices Spot\\Minor Spot Indices\\CA60 1.0 1.0\n",
      "Stock CFD's\\Nasdaq\\AMD.NAS 0.1 0.1\n",
      "Crypto\\ADAUSD 1.0 0.01\n",
      "Stock CFD's\\Nasdaq\\HOOD.NAS 0.1 0.1\n",
      "Crypto\\XTZUSD 1.0 0.01\n",
      "Crypto\\BNBUSD 0.01 0.01\n",
      "Indices\\Indices Spot\\Major Spot Indices\\DE40 0.1 0.1\n",
      "Indices\\Indices Spot\\Minor Spot Indices\\MidDE50 1.0 1.0\n",
      "Stock CFD's\\NYSE\\PANW.NAS 0.1 0.1\n",
      "Commodities\\Metals\\XAUJPY 0.01 0.01\n",
      "Stock CFD's\\Nasdaq\\PARA.NAS 0.1 0.1\n",
      "Crypto\\SOLUSD 1.0 0.01\n",
      "Stock CFD's\\Nasdaq\\ABEO.NAS 0.1 0.1\n",
      "Commodities\\Softs\\Wheat_K3 1.0 1.0\n",
      "Stock CFD's\\NYSE\\GRMN.NYSE 0.1 0.1\n",
      "Crypto\\AAVEUSD 1.0 1.0\n",
      "Stock CFD's\\Nasdaq\\XWEL.NAS 0.1 0.1\n",
      "Stock CFD's\\UK\\LSE\\IDS.LSE 1.0 1.0\n",
      "Stock CFD's\\NYSE\\BN.NYSE 0.1 0.1\n"
     ]
    }
   ],
   "source": [
    "b = -1\n",
    "for s in symbols:\n",
    "    si = mt5.symbol_info(s.name)\n",
    "    a = si.volume_min\n",
    "    if a != b:\n",
    "        print(s.path, a, si.volume_step)\n",
    "        b = a"
   ]
  },
  {
   "cell_type": "code",
   "execution_count": 17,
   "metadata": {},
   "outputs": [
    {
     "data": {
      "text/plain": [
       "1"
      ]
     },
     "execution_count": 17,
     "metadata": {},
     "output_type": "execute_result"
    }
   ],
   "source": [
    "q = 1.00000\n",
    "len(str(q)) - str(q).index(\".\") -1"
   ]
  },
  {
   "cell_type": "code",
   "execution_count": 29,
   "metadata": {},
   "outputs": [
    {
     "name": "stdout",
     "output_type": "stream",
     "text": [
      "356 µs ± 26 µs per loop (mean ± std. dev. of 7 runs, 1,000 loops each)\n"
     ]
    }
   ],
   "source": [
    "%%timeit\n",
    "pd.DataFrame(a)"
   ]
  },
  {
   "cell_type": "code",
   "execution_count": 79,
   "metadata": {},
   "outputs": [
    {
     "data": {
      "text/plain": [
       "rec.array([(1679875440, 1.07721, 1.07721, 1.07721, 1.07721, 1, 33, 0)],\n",
       "          dtype=[('time', '<i8'), ('open', '<f8'), ('high', '<f8'), ('low', '<f8'), ('close', '<f8'), ('tick_volume', '<u8'), ('spread', '<i4'), ('real_volume', '<u8')])"
      ]
     },
     "execution_count": 79,
     "metadata": {},
     "output_type": "execute_result"
    }
   ],
   "source": [
    "#%%timeit\n",
    "session.get_candles(\"EURUSD\", \"M1\", 1)"
   ]
  },
  {
   "cell_type": "code",
   "execution_count": 3,
   "metadata": {},
   "outputs": [
    {
     "data": {
      "text/plain": [
       "(0.999, 1.002)"
      ]
     },
     "execution_count": 3,
     "metadata": {},
     "output_type": "execute_result"
    }
   ],
   "source": [
    "session.calculate_sltp(\"EURUSD\", \"buy\", 1.0000, 10, 2)\n"
   ]
  },
  {
   "cell_type": "code",
   "execution_count": 20,
   "metadata": {},
   "outputs": [
    {
     "data": {
      "text/plain": [
       "AccountInfo(login=51136661, trade_mode=0, leverage=500, limit_orders=200, margin_so_mode=0, trade_allowed=True, trade_expert=True, margin_mode=2, currency_digits=2, fifo_close=False, balance=420.11, credit=0.0, profit=0.0, equity=420.11, margin=0.0, margin_free=420.11, margin_level=0.0, margin_so_call=100.0, margin_so_so=50.0, margin_initial=0.0, margin_maintenance=0.0, assets=0.0, liabilities=0.0, commission_blocked=0.0, name='Reyes Vega Leonardo Moises', server='ICMarketsSC-Demo', currency='GBP', company='Raw Trading Ltd')"
      ]
     },
     "execution_count": 20,
     "metadata": {},
     "output_type": "execute_result"
    }
   ],
   "source": [
    "session.calculate_sltp(\"EURUSD\", \"buy\", 1.08946, 10, 2)"
   ]
  },
  {
   "cell_type": "code",
   "execution_count": 22,
   "metadata": {},
   "outputs": [],
   "source": []
  },
  {
   "cell_type": "code",
   "execution_count": 26,
   "metadata": {},
   "outputs": [],
   "source": [
    "symbols = mt5.symbols_get()"
   ]
  },
  {
   "cell_type": "code",
   "execution_count": 29,
   "metadata": {},
   "outputs": [
    {
     "data": {
      "text/plain": [
       "SymbolInfo(custom=False, chart_mode=0, select=True, visible=True, session_deals=0, session_buy_orders=0, session_sell_orders=0, volume=0, volumehigh=0, volumelow=0, time=1679551157, digits=5, spread=0, spread_float=True, ticks_bookdepth=10, trade_calc_mode=0, trade_mode=4, start_time=0, expiration_time=0, trade_stops_level=0, trade_freeze_level=0, trade_exemode=2, swap_mode=1, swap_rollover3days=3, margin_hedged_use_leg=False, expiration_mode=15, filling_mode=2, order_mode=127, order_gtc_mode=0, option_mode=0, option_right=0, bid=1.08952, bidhigh=1.0899, bidlow=1.08555, ask=1.08952, askhigh=1.0899, asklow=1.08561, last=0.0, lasthigh=0.0, lastlow=0.0, volume_real=0.0, volumehigh_real=0.0, volumelow_real=0.0, option_strike=0.0, point=1e-05, trade_tick_value=0.8120969968653058, trade_tick_value_profit=0.8120969968653058, trade_tick_value_loss=0.812123377783553, trade_tick_size=1e-05, trade_contract_size=100000.0, trade_accrued_interest=0.0, trade_face_value=0.0, trade_liquidity_rate=0.0, volume_min=0.01, volume_max=200.0, volume_step=0.01, volume_limit=0.0, swap_long=-7.12, swap_short=4.65, margin_initial=100000.0, margin_maintenance=0.0, session_volume=0.0, session_turnover=0.0, session_interest=0.0, session_buy_orders_volume=0.0, session_sell_orders_volume=0.0, session_open=1.08555, session_close=1.08551, session_aw=0.0, session_price_settlement=0.0, session_price_limit_min=0.0, session_price_limit_max=0.0, margin_hedged=0.0, price_change=0.3694, price_volatility=0.0, price_theoretical=0.0, price_greeks_delta=0.0, price_greeks_theta=0.0, price_greeks_gamma=0.0, price_greeks_vega=0.0, price_greeks_rho=0.0, price_greeks_omega=0.0, price_sensitivity=0.0, basis='', category='', currency_base='EUR', currency_profit='USD', currency_margin='EUR', bank='', description='Euro vs US Dollar', exchange='', formula='', isin='', name='EURUSD', page='', path='Forex\\\\Majors\\\\EURUSD')"
      ]
     },
     "execution_count": 29,
     "metadata": {},
     "output_type": "execute_result"
    }
   ],
   "source": [
    "symbols[0]"
   ]
  },
  {
   "cell_type": "code",
   "execution_count": 2,
   "metadata": {},
   "outputs": [
    {
     "name": "stdout",
     "output_type": "stream",
     "text": [
      "409.3 1.2323\n"
     ]
    },
    {
     "data": {
      "text/plain": [
       "(1.092360597136, 1.089268805728)"
      ]
     },
     "execution_count": 2,
     "metadata": {},
     "output_type": "execute_result"
    }
   ],
   "source": [
    "session.calculate_sltp_2(\"EURUSD\", \"sell\", price=1.09133, lot_size=0.05, risk_pct=0.01, rr_ratio=2)\n"
   ]
  },
  {
   "cell_type": "code",
   "execution_count": 80,
   "metadata": {},
   "outputs": [],
   "source": [
    "si = mt5.symbol_info(\"GBPUSD\")\n",
    "si2 = mt5.symbol_info_tick(\"GBPUSD\")\n",
    "t = session.get_candles(\"GBPUSD\", \"M1\", 1)\n",
    "t2 = session.get_ticks(\"GBPUSD\", 5)"
   ]
  },
  {
   "cell_type": "code",
   "execution_count": 81,
   "metadata": {},
   "outputs": [
    {
     "data": {
      "text/plain": [
       "array([1.22351, 1.22362, 1.22362, 1.22354, 1.22354])"
      ]
     },
     "execution_count": 81,
     "metadata": {},
     "output_type": "execute_result"
    }
   ],
   "source": [
    "t2.ask"
   ]
  },
  {
   "cell_type": "code",
   "execution_count": 67,
   "metadata": {},
   "outputs": [
    {
     "data": {
      "text/plain": [
       "1.22295"
      ]
     },
     "execution_count": 67,
     "metadata": {},
     "output_type": "execute_result"
    }
   ],
   "source": [
    "si.bid"
   ]
  },
  {
   "cell_type": "code",
   "execution_count": 62,
   "metadata": {},
   "outputs": [
    {
     "data": {
      "text/plain": [
       "Tick(time=1679702218, bid=1.22295, ask=1.22323, last=0.0, volume=0, time_msc=1679702218646, flags=6, volume_real=0.0)"
      ]
     },
     "execution_count": 62,
     "metadata": {},
     "output_type": "execute_result"
    }
   ],
   "source": [
    "si2"
   ]
  },
  {
   "cell_type": "code",
   "execution_count": 3,
   "metadata": {},
   "outputs": [
    {
     "data": {
      "text/html": [
       "<div>\n",
       "<style scoped>\n",
       "    .dataframe tbody tr th:only-of-type {\n",
       "        vertical-align: middle;\n",
       "    }\n",
       "\n",
       "    .dataframe tbody tr th {\n",
       "        vertical-align: top;\n",
       "    }\n",
       "\n",
       "    .dataframe thead th {\n",
       "        text-align: right;\n",
       "    }\n",
       "</style>\n",
       "<table border=\"1\" class=\"dataframe\">\n",
       "  <thead>\n",
       "    <tr style=\"text-align: right;\">\n",
       "      <th></th>\n",
       "      <th>time</th>\n",
       "      <th>open</th>\n",
       "      <th>high</th>\n",
       "      <th>low</th>\n",
       "      <th>close</th>\n",
       "      <th>tick_volume</th>\n",
       "      <th>spread</th>\n",
       "      <th>real_volume</th>\n",
       "    </tr>\n",
       "  </thead>\n",
       "  <tbody>\n",
       "    <tr>\n",
       "      <th>0</th>\n",
       "      <td>1679565600</td>\n",
       "      <td>1.23238</td>\n",
       "      <td>1.23256</td>\n",
       "      <td>1.23164</td>\n",
       "      <td>1.23229</td>\n",
       "      <td>737</td>\n",
       "      <td>0</td>\n",
       "      <td>0</td>\n",
       "    </tr>\n",
       "  </tbody>\n",
       "</table>\n",
       "</div>"
      ],
      "text/plain": [
       "         time     open     high      low    close  tick_volume  spread  \\\n",
       "0  1679565600  1.23238  1.23256  1.23164  1.23229          737       0   \n",
       "\n",
       "   real_volume  \n",
       "0            0  "
      ]
     },
     "execution_count": 3,
     "metadata": {},
     "output_type": "execute_result"
    }
   ],
   "source": [
    "pd.DataFrame(mt5.copy_rates_from_pos(\"GBPUSD\", mt5.TIMEFRAME_H1, 0, 1))\n"
   ]
  },
  {
   "cell_type": "code",
   "execution_count": 7,
   "metadata": {},
   "outputs": [
    {
     "name": "stdout",
     "output_type": "stream",
     "text": [
      "61.9 µs ± 2.33 µs per loop (mean ± std. dev. of 7 runs, 10,000 loops each)\n"
     ]
    }
   ],
   "source": [
    "#%%timeit\n",
    "a = mt5.copy_rates_from_pos(\"GBPUSD\", mt5.TIMEFRAME_M1, 0, 1)\n",
    "b = a.view(np.recarray)\n"
   ]
  },
  {
   "cell_type": "code",
   "execution_count": 26,
   "metadata": {},
   "outputs": [],
   "source": [
    "a = mt5.positions_get(symbol=\"EURUSD\")\n"
   ]
  },
  {
   "cell_type": "code",
   "execution_count": 28,
   "metadata": {},
   "outputs": [
    {
     "data": {
      "text/plain": [
       "'EURUSD'"
      ]
     },
     "execution_count": 28,
     "metadata": {},
     "output_type": "execute_result"
    }
   ],
   "source": [
    "a[0].symbol"
   ]
  },
  {
   "cell_type": "code",
   "execution_count": 88,
   "metadata": {},
   "outputs": [
    {
     "data": {
      "text/plain": [
       "2"
      ]
     },
     "execution_count": 88,
     "metadata": {},
     "output_type": "execute_result"
    }
   ],
   "source": [
    "mt5.positions_total()\n"
   ]
  },
  {
   "cell_type": "code",
   "execution_count": 101,
   "metadata": {},
   "outputs": [
    {
     "data": {
      "text/plain": [
       "(TradeOrder(ticket=359065032, time_setup=1679875486, time_setup_msc=1679875486789, time_done=0, time_done_msc=0, time_expiration=0, type=2, type_time=0, type_filling=2, state=1, magic=0, position_id=0, position_by_id=0, reason=0, volume_initial=0.05, volume_current=0.05, price_open=1.18674, sl=0.0, tp=0.0, price_current=1.22426, price_stoplimit=0.0, symbol='GBPUSD', comment='', external_id=''),)"
      ]
     },
     "execution_count": 101,
     "metadata": {},
     "output_type": "execute_result"
    }
   ],
   "source": [
    "session.create_order()\n",
    "mt5.orders_get(symbol=\"GBPUSD\")\n"
   ]
  },
  {
   "cell_type": "code",
   "execution_count": 90,
   "metadata": {},
   "outputs": [
    {
     "data": {
      "text/plain": [
       "2"
      ]
     },
     "execution_count": 90,
     "metadata": {},
     "output_type": "execute_result"
    }
   ],
   "source": [
    "mt5.orders_total()"
   ]
  },
  {
   "cell_type": "code",
   "execution_count": 102,
   "metadata": {},
   "outputs": [
    {
     "data": {
      "text/plain": [
       "(1, 'Success')"
      ]
     },
     "execution_count": 102,
     "metadata": {},
     "output_type": "execute_result"
    }
   ],
   "source": [
    "mt5.last_error()"
   ]
  },
  {
   "cell_type": "code",
   "execution_count": 44,
   "metadata": {},
   "outputs": [
    {
     "data": {
      "text/plain": [
       "'BCHUSD'"
      ]
     },
     "execution_count": 44,
     "metadata": {},
     "output_type": "execute_result"
    }
   ],
   "source": [
    "mt5.symbols_get(\"BCH\")[0].name"
   ]
  },
  {
   "cell_type": "code",
   "execution_count": 59,
   "metadata": {},
   "outputs": [
    {
     "data": {
      "text/plain": [
       "True"
      ]
     },
     "execution_count": 59,
     "metadata": {},
     "output_type": "execute_result"
    }
   ],
   "source": [
    "mt5.symbol_select(\"USDTRY\", True)"
   ]
  },
  {
   "cell_type": "code",
   "execution_count": null,
   "metadata": {},
   "outputs": [],
   "source": []
  }
 ],
 "metadata": {
  "kernelspec": {
   "display_name": "kpltrader-vbX6Bd8D",
   "language": "python",
   "name": "python3"
  },
  "language_info": {
   "codemirror_mode": {
    "name": "ipython",
    "version": 3
   },
   "file_extension": ".py",
   "mimetype": "text/x-python",
   "name": "python",
   "nbconvert_exporter": "python",
   "pygments_lexer": "ipython3",
   "version": "3.9.13"
  },
  "orig_nbformat": 4
 },
 "nbformat": 4,
 "nbformat_minor": 2
}
